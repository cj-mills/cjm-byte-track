{
 "cells": [
  {
   "cell_type": "markdown",
   "metadata": {},
   "source": [
    "# kalman_filter\n",
    "\n",
    "> Kalman filter for tracking bounding boxes in image space."
   ]
  },
  {
   "cell_type": "code",
   "execution_count": null,
   "metadata": {},
   "outputs": [],
   "source": [
    "#| default_exp kalman_filter"
   ]
  },
  {
   "cell_type": "code",
   "execution_count": null,
   "metadata": {},
   "outputs": [],
   "source": [
    "#| hide\n",
    "from nbdev.showdoc import *"
   ]
  },
  {
   "cell_type": "code",
   "execution_count": null,
   "metadata": {},
   "outputs": [],
   "source": [
    "#| export\n",
    "import numpy as np\n",
    "import scipy.linalg"
   ]
  },
  {
   "cell_type": "code",
   "execution_count": null,
   "metadata": {},
   "outputs": [],
   "source": [
    "#| export\n",
    "class KalmanFilter:\n",
    "    \"\"\"\n",
    "    A Kalman filter class designed for tracking bounding boxes in image space.\n",
    "\n",
    "    Attributes:\n",
    "\n",
    "    - `ndim` (int): The dimension of the state space.\n",
    "    - `_motion_mat` (ndarray): The motion model matrix.\n",
    "    - `_update_mat` (ndarray): The update matrix used for projecting state distribution to measurement space.\n",
    "    - `_std_weight_position` (float): Standard deviation weight for the position.\n",
    "    - `_std_weight_velocity` (float): Standard deviation weight for the velocity.\n",
    "    \"\"\"\n",
    "\n",
    "    def __init__(self):\n",
    "        \"\"\"Initialize the Kalman filter with default parameters.\"\"\"\n",
    "        # Define the dimension of state space (x, y, dx, dy)\n",
    "        self.ndim = 4\n",
    "        dt = 1.0  # Time step\n",
    "\n",
    "        # Define the motion model matrix\n",
    "        self._motion_mat = np.eye(2 * self.ndim, 2 * self.ndim)\n",
    "        self._motion_mat[:self.ndim, self.ndim:] = dt * np.eye(self.ndim)\n",
    "        # Define the update matrix\n",
    "        self._update_mat = np.eye(self.ndim, 2 * self.ndim)\n",
    "\n",
    "        # Define weights for calculating uncertainties\n",
    "        self._std_weight_position = 1. / 20\n",
    "        self._std_weight_velocity = 1. / 160\n",
    "\n",
    "    def _create_std(self, \n",
    "                    mean:np.ndarray # The mean values.\n",
    "                   ) -> np.ndarray: # The computed standard deviations.\n",
    "        \"\"\"\n",
    "        Compute standard deviations based on the mean. \n",
    "        \"\"\"\n",
    "        std_pos = self._std_weight_position * mean[..., 3]\n",
    "        std_vel = self._std_weight_velocity * mean[..., 3]\n",
    "        ones = np.ones_like(std_pos)\n",
    "\n",
    "        return np.stack([std_pos, std_pos, 1e-2 * ones, std_pos, std_vel, std_vel, 1e-5 * ones, std_vel], axis=-1)\n",
    "\n",
    "    def initiate(self, \n",
    "                 measurement: np.ndarray # The initial measurement for the track. \n",
    "                ) -> tuple: # The mean and covariance of the initiated track. \n",
    "        \"\"\"\n",
    "        Initialize a new track from an unassociated measurement. \n",
    "        \"\"\"\n",
    "        mean = np.hstack([measurement, np.zeros_like(measurement)])\n",
    "        covariance = np.diag(self._create_std(mean)**2)\n",
    "        return mean, covariance\n",
    "\n",
    "    def predict(self, \n",
    "                mean:np.ndarray, # The current state mean. \n",
    "                covariance:np.ndarray # The current state covariance.\n",
    "               ) -> tuple: # The predicted state mean and covariance.\n",
    "        \"\"\"\n",
    "        Run the Kalman filter prediction step.\n",
    "        \"\"\"\n",
    "        motion_cov = np.diag(self._create_std(mean)**2)\n",
    "\n",
    "        mean = mean @ self._motion_mat.T\n",
    "        covariance = self._motion_mat @ covariance @ self._motion_mat.T + motion_cov\n",
    "        return mean, covariance\n",
    "\n",
    "    def project(self, \n",
    "                mean:np.ndarray, # The current state mean.\n",
    "                covariance:np.ndarray # The current state covariance.\n",
    "               ) -> tuple: # The mean and covariance in the measurement space.\n",
    "        \"\"\"\n",
    "        Project the state distribution to the measurement space.\n",
    "        \"\"\"\n",
    "        innovation_cov = np.diag(self._create_std(mean)[:self.ndim]**2)\n",
    "\n",
    "        mean = self._update_mat @ mean\n",
    "        covariance = self._update_mat @ covariance @ self._update_mat.T + innovation_cov\n",
    "        return mean, covariance\n",
    "\n",
    "    def multi_predict(self, \n",
    "                      mean:np.ndarray, # The current state mean.\n",
    "                      covariance:np.ndarray # The current state covariance.\n",
    "                     ) -> tuple: # The predicted state mean and covariance for multiple measurements.\n",
    "        \"\"\"\n",
    "        Run the Kalman filter prediction step for multiple measurements (Vectorized version).\n",
    "        \"\"\"\n",
    "        motion_cov = np.array([np.diag(s) for s in self._create_std(mean)**2])\n",
    "\n",
    "        mean = mean @ self._motion_mat.T\n",
    "        covariance = self._motion_mat @ covariance @ self._motion_mat.T[np.newaxis, ...] + motion_cov\n",
    "        return mean, covariance\n",
    "\n",
    "    def update(self, \n",
    "               mean:np.ndarray, # The predicted state mean.\n",
    "               covariance:np.ndarray, # The predicted state covariance.\n",
    "               measurement:np.ndarray # The new measurement.\n",
    "              ) -> tuple: # The updated state mean and covariance after correction.\n",
    "        \"\"\"\n",
    "        Run the Kalman filter correction step.\n",
    "        \"\"\"\n",
    "        projected_mean, projected_cov = self.project(mean, covariance)\n",
    "\n",
    "        chol_factor, lower = scipy.linalg.cho_factor(projected_cov, lower=True, check_finite=False)\n",
    "        kalman_gain = scipy.linalg.cho_solve((chol_factor, lower), self._update_mat @ covariance, check_finite=False).T\n",
    "\n",
    "        new_mean = mean + (measurement - projected_mean) @ kalman_gain.T\n",
    "        new_covariance = covariance - kalman_gain @ projected_cov @ kalman_gain.T\n",
    "        return new_mean, new_covariance\n",
    "\n",
    "    def gating_distance(self, \n",
    "                        mean:np.ndarray, # The state mean.\n",
    "                        covariance:np.ndarray, # The state covariance.\n",
    "                        measurements:np.ndarray, # The given measurements.\n",
    "                        only_position:bool=False, # If True, consider only position in the gating distance. Defaults to False.\n",
    "                        metric:str='maha' # The metric to use for distance calculation ('gaussian' or 'maha'). Defaults to 'maha'.\n",
    "                       ) -> np.ndarray: # The gating distances.\n",
    "        \"\"\"\n",
    "        Compute the gating distance between the state distribution and given measurements.\n",
    "\n",
    "        Raises:\n",
    "            ValueError: If an invalid distance metric is provided.\n",
    "        \"\"\"\n",
    "        mean, covariance = self.project(mean, covariance)\n",
    "\n",
    "        if only_position:\n",
    "            mean, covariance = mean[:2], covariance[:2, :2]\n",
    "            measurements = measurements[:, :2]\n",
    "\n",
    "        diff = measurements - mean\n",
    "        if metric == 'gaussian':\n",
    "            return np.sum(diff**2, axis=1)\n",
    "        elif metric == 'maha':\n",
    "            chol_factor = np.linalg.cholesky(covariance)\n",
    "            z = scipy.linalg.solve_triangular(chol_factor, diff.T, lower=True, check_finite=False)\n",
    "            return np.sum(z**2, axis=0)\n",
    "        else:\n",
    "            raise ValueError('Invalid distance metric')"
   ]
  },
  {
   "cell_type": "code",
   "execution_count": null,
   "metadata": {},
   "outputs": [
    {
     "data": {
      "text/markdown": [
       "---\n",
       "\n",
       "[source](https://github.com/cj-mills/cjm-byte-track/blob/main/cjm_byte_track/kalman_filter.py#L24){target=\"_blank\" style=\"float:right; font-size:smaller\"}\n",
       "\n",
       "### KalmanFilter.__init__\n",
       "\n",
       ">      KalmanFilter.__init__ ()\n",
       "\n",
       "Initialize the Kalman filter with default parameters."
      ],
      "text/plain": [
       "---\n",
       "\n",
       "[source](https://github.com/cj-mills/cjm-byte-track/blob/main/cjm_byte_track/kalman_filter.py#L24){target=\"_blank\" style=\"float:right; font-size:smaller\"}\n",
       "\n",
       "### KalmanFilter.__init__\n",
       "\n",
       ">      KalmanFilter.__init__ ()\n",
       "\n",
       "Initialize the Kalman filter with default parameters."
      ]
     },
     "execution_count": null,
     "metadata": {},
     "output_type": "execute_result"
    }
   ],
   "source": [
    "show_doc(KalmanFilter.__init__)"
   ]
  },
  {
   "cell_type": "code",
   "execution_count": null,
   "metadata": {},
   "outputs": [
    {
     "data": {
      "text/markdown": [
       "---\n",
       "\n",
       "[source](https://github.com/cj-mills/cjm-byte-track/blob/main/cjm_byte_track/kalman_filter.py#L40){target=\"_blank\" style=\"float:right; font-size:smaller\"}\n",
       "\n",
       "### KalmanFilter._create_std\n",
       "\n",
       ">      KalmanFilter._create_std (mean:numpy.ndarray)\n",
       "\n",
       "Compute standard deviations based on the mean.\n",
       "\n",
       "|    | **Type** | **Details** |\n",
       "| -- | -------- | ----------- |\n",
       "| mean | ndarray | The mean values. |\n",
       "| **Returns** | **ndarray** | **The computed standard deviations.** |"
      ],
      "text/plain": [
       "---\n",
       "\n",
       "[source](https://github.com/cj-mills/cjm-byte-track/blob/main/cjm_byte_track/kalman_filter.py#L40){target=\"_blank\" style=\"float:right; font-size:smaller\"}\n",
       "\n",
       "### KalmanFilter._create_std\n",
       "\n",
       ">      KalmanFilter._create_std (mean:numpy.ndarray)\n",
       "\n",
       "Compute standard deviations based on the mean.\n",
       "\n",
       "|    | **Type** | **Details** |\n",
       "| -- | -------- | ----------- |\n",
       "| mean | ndarray | The mean values. |\n",
       "| **Returns** | **ndarray** | **The computed standard deviations.** |"
      ]
     },
     "execution_count": null,
     "metadata": {},
     "output_type": "execute_result"
    }
   ],
   "source": [
    "show_doc(KalmanFilter._create_std)"
   ]
  },
  {
   "cell_type": "code",
   "execution_count": null,
   "metadata": {},
   "outputs": [
    {
     "data": {
      "text/markdown": [
       "---\n",
       "\n",
       "[source](https://github.com/cj-mills/cjm-byte-track/blob/main/cjm_byte_track/kalman_filter.py#L52){target=\"_blank\" style=\"float:right; font-size:smaller\"}\n",
       "\n",
       "### KalmanFilter.initiate\n",
       "\n",
       ">      KalmanFilter.initiate (measurement:numpy.ndarray)\n",
       "\n",
       "Initialize a new track from an unassociated measurement.\n",
       "\n",
       "|    | **Type** | **Details** |\n",
       "| -- | -------- | ----------- |\n",
       "| measurement | ndarray | The initial measurement for the track. |\n",
       "| **Returns** | **tuple** | **The mean and covariance of the initiated track.** |"
      ],
      "text/plain": [
       "---\n",
       "\n",
       "[source](https://github.com/cj-mills/cjm-byte-track/blob/main/cjm_byte_track/kalman_filter.py#L52){target=\"_blank\" style=\"float:right; font-size:smaller\"}\n",
       "\n",
       "### KalmanFilter.initiate\n",
       "\n",
       ">      KalmanFilter.initiate (measurement:numpy.ndarray)\n",
       "\n",
       "Initialize a new track from an unassociated measurement.\n",
       "\n",
       "|    | **Type** | **Details** |\n",
       "| -- | -------- | ----------- |\n",
       "| measurement | ndarray | The initial measurement for the track. |\n",
       "| **Returns** | **tuple** | **The mean and covariance of the initiated track.** |"
      ]
     },
     "execution_count": null,
     "metadata": {},
     "output_type": "execute_result"
    }
   ],
   "source": [
    "show_doc(KalmanFilter.initiate)"
   ]
  },
  {
   "cell_type": "code",
   "execution_count": null,
   "metadata": {},
   "outputs": [
    {
     "data": {
      "text/markdown": [
       "---\n",
       "\n",
       "[source](https://github.com/cj-mills/cjm-byte-track/blob/main/cjm_byte_track/kalman_filter.py#L62){target=\"_blank\" style=\"float:right; font-size:smaller\"}\n",
       "\n",
       "### KalmanFilter.predict\n",
       "\n",
       ">      KalmanFilter.predict (mean:numpy.ndarray, covariance:numpy.ndarray)\n",
       "\n",
       "Run the Kalman filter prediction step.\n",
       "\n",
       "|    | **Type** | **Details** |\n",
       "| -- | -------- | ----------- |\n",
       "| mean | ndarray | The current state mean. |\n",
       "| covariance | ndarray | The current state covariance. |\n",
       "| **Returns** | **tuple** | **The predicted state mean and covariance.** |"
      ],
      "text/plain": [
       "---\n",
       "\n",
       "[source](https://github.com/cj-mills/cjm-byte-track/blob/main/cjm_byte_track/kalman_filter.py#L62){target=\"_blank\" style=\"float:right; font-size:smaller\"}\n",
       "\n",
       "### KalmanFilter.predict\n",
       "\n",
       ">      KalmanFilter.predict (mean:numpy.ndarray, covariance:numpy.ndarray)\n",
       "\n",
       "Run the Kalman filter prediction step.\n",
       "\n",
       "|    | **Type** | **Details** |\n",
       "| -- | -------- | ----------- |\n",
       "| mean | ndarray | The current state mean. |\n",
       "| covariance | ndarray | The current state covariance. |\n",
       "| **Returns** | **tuple** | **The predicted state mean and covariance.** |"
      ]
     },
     "execution_count": null,
     "metadata": {},
     "output_type": "execute_result"
    }
   ],
   "source": [
    "show_doc(KalmanFilter.predict)"
   ]
  },
  {
   "cell_type": "code",
   "execution_count": null,
   "metadata": {},
   "outputs": [
    {
     "data": {
      "text/markdown": [
       "---\n",
       "\n",
       "[source](https://github.com/cj-mills/cjm-byte-track/blob/main/cjm_byte_track/kalman_filter.py#L75){target=\"_blank\" style=\"float:right; font-size:smaller\"}\n",
       "\n",
       "### KalmanFilter.project\n",
       "\n",
       ">      KalmanFilter.project (mean:numpy.ndarray, covariance:numpy.ndarray)\n",
       "\n",
       "Project the state distribution to the measurement space.\n",
       "\n",
       "|    | **Type** | **Details** |\n",
       "| -- | -------- | ----------- |\n",
       "| mean | ndarray | The current state mean. |\n",
       "| covariance | ndarray | The current state covariance. |\n",
       "| **Returns** | **tuple** | **The mean and covariance in the measurement space.** |"
      ],
      "text/plain": [
       "---\n",
       "\n",
       "[source](https://github.com/cj-mills/cjm-byte-track/blob/main/cjm_byte_track/kalman_filter.py#L75){target=\"_blank\" style=\"float:right; font-size:smaller\"}\n",
       "\n",
       "### KalmanFilter.project\n",
       "\n",
       ">      KalmanFilter.project (mean:numpy.ndarray, covariance:numpy.ndarray)\n",
       "\n",
       "Project the state distribution to the measurement space.\n",
       "\n",
       "|    | **Type** | **Details** |\n",
       "| -- | -------- | ----------- |\n",
       "| mean | ndarray | The current state mean. |\n",
       "| covariance | ndarray | The current state covariance. |\n",
       "| **Returns** | **tuple** | **The mean and covariance in the measurement space.** |"
      ]
     },
     "execution_count": null,
     "metadata": {},
     "output_type": "execute_result"
    }
   ],
   "source": [
    "show_doc(KalmanFilter.project)"
   ]
  },
  {
   "cell_type": "code",
   "execution_count": null,
   "metadata": {},
   "outputs": [
    {
     "data": {
      "text/markdown": [
       "---\n",
       "\n",
       "[source](https://github.com/cj-mills/cjm-byte-track/blob/main/cjm_byte_track/kalman_filter.py#L88){target=\"_blank\" style=\"float:right; font-size:smaller\"}\n",
       "\n",
       "### KalmanFilter.multi_predict\n",
       "\n",
       ">      KalmanFilter.multi_predict (mean:numpy.ndarray, covariance:numpy.ndarray)\n",
       "\n",
       "Run the Kalman filter prediction step for multiple measurements (Vectorized version).\n",
       "\n",
       "|    | **Type** | **Details** |\n",
       "| -- | -------- | ----------- |\n",
       "| mean | ndarray | The current state mean. |\n",
       "| covariance | ndarray | The current state covariance. |\n",
       "| **Returns** | **tuple** | **The predicted state mean and covariance for multiple measurements.** |"
      ],
      "text/plain": [
       "---\n",
       "\n",
       "[source](https://github.com/cj-mills/cjm-byte-track/blob/main/cjm_byte_track/kalman_filter.py#L88){target=\"_blank\" style=\"float:right; font-size:smaller\"}\n",
       "\n",
       "### KalmanFilter.multi_predict\n",
       "\n",
       ">      KalmanFilter.multi_predict (mean:numpy.ndarray, covariance:numpy.ndarray)\n",
       "\n",
       "Run the Kalman filter prediction step for multiple measurements (Vectorized version).\n",
       "\n",
       "|    | **Type** | **Details** |\n",
       "| -- | -------- | ----------- |\n",
       "| mean | ndarray | The current state mean. |\n",
       "| covariance | ndarray | The current state covariance. |\n",
       "| **Returns** | **tuple** | **The predicted state mean and covariance for multiple measurements.** |"
      ]
     },
     "execution_count": null,
     "metadata": {},
     "output_type": "execute_result"
    }
   ],
   "source": [
    "show_doc(KalmanFilter.multi_predict)"
   ]
  },
  {
   "cell_type": "code",
   "execution_count": null,
   "metadata": {},
   "outputs": [
    {
     "data": {
      "text/markdown": [
       "---\n",
       "\n",
       "[source](https://github.com/cj-mills/cjm-byte-track/blob/main/cjm_byte_track/kalman_filter.py#L101){target=\"_blank\" style=\"float:right; font-size:smaller\"}\n",
       "\n",
       "### KalmanFilter.update\n",
       "\n",
       ">      KalmanFilter.update (mean:numpy.ndarray, covariance:numpy.ndarray,\n",
       ">                           measurement:numpy.ndarray)\n",
       "\n",
       "Run the Kalman filter correction step.\n",
       "\n",
       "|    | **Type** | **Details** |\n",
       "| -- | -------- | ----------- |\n",
       "| mean | ndarray | The predicted state mean. |\n",
       "| covariance | ndarray | The predicted state covariance. |\n",
       "| measurement | ndarray | The new measurement. |\n",
       "| **Returns** | **tuple** | **The updated state mean and covariance after correction.** |"
      ],
      "text/plain": [
       "---\n",
       "\n",
       "[source](https://github.com/cj-mills/cjm-byte-track/blob/main/cjm_byte_track/kalman_filter.py#L101){target=\"_blank\" style=\"float:right; font-size:smaller\"}\n",
       "\n",
       "### KalmanFilter.update\n",
       "\n",
       ">      KalmanFilter.update (mean:numpy.ndarray, covariance:numpy.ndarray,\n",
       ">                           measurement:numpy.ndarray)\n",
       "\n",
       "Run the Kalman filter correction step.\n",
       "\n",
       "|    | **Type** | **Details** |\n",
       "| -- | -------- | ----------- |\n",
       "| mean | ndarray | The predicted state mean. |\n",
       "| covariance | ndarray | The predicted state covariance. |\n",
       "| measurement | ndarray | The new measurement. |\n",
       "| **Returns** | **tuple** | **The updated state mean and covariance after correction.** |"
      ]
     },
     "execution_count": null,
     "metadata": {},
     "output_type": "execute_result"
    }
   ],
   "source": [
    "show_doc(KalmanFilter.update)"
   ]
  },
  {
   "cell_type": "code",
   "execution_count": null,
   "metadata": {},
   "outputs": [
    {
     "data": {
      "text/markdown": [
       "---\n",
       "\n",
       "[source](https://github.com/cj-mills/cjm-byte-track/blob/main/cjm_byte_track/kalman_filter.py#L118){target=\"_blank\" style=\"float:right; font-size:smaller\"}\n",
       "\n",
       "### KalmanFilter.gating_distance\n",
       "\n",
       ">      KalmanFilter.gating_distance (mean:numpy.ndarray,\n",
       ">                                    covariance:numpy.ndarray,\n",
       ">                                    measurements:numpy.ndarray,\n",
       ">                                    only_position:bool=False,\n",
       ">                                    metric:str='maha')\n",
       "\n",
       "Compute the gating distance between the state distribution and given measurements.\n",
       "\n",
       "Raises:\n",
       "    ValueError: If an invalid distance metric is provided.\n",
       "\n",
       "|    | **Type** | **Default** | **Details** |\n",
       "| -- | -------- | ----------- | ----------- |\n",
       "| mean | ndarray |  | The state mean. |\n",
       "| covariance | ndarray |  | The state covariance. |\n",
       "| measurements | ndarray |  | The given measurements. |\n",
       "| only_position | bool | False | If True, consider only position in the gating distance. Defaults to False. |\n",
       "| metric | str | maha | The metric to use for distance calculation ('gaussian' or 'maha'). Defaults to 'maha'. |\n",
       "| **Returns** | **ndarray** |  | **The gating distances.** |"
      ],
      "text/plain": [
       "---\n",
       "\n",
       "[source](https://github.com/cj-mills/cjm-byte-track/blob/main/cjm_byte_track/kalman_filter.py#L118){target=\"_blank\" style=\"float:right; font-size:smaller\"}\n",
       "\n",
       "### KalmanFilter.gating_distance\n",
       "\n",
       ">      KalmanFilter.gating_distance (mean:numpy.ndarray,\n",
       ">                                    covariance:numpy.ndarray,\n",
       ">                                    measurements:numpy.ndarray,\n",
       ">                                    only_position:bool=False,\n",
       ">                                    metric:str='maha')\n",
       "\n",
       "Compute the gating distance between the state distribution and given measurements.\n",
       "\n",
       "Raises:\n",
       "    ValueError: If an invalid distance metric is provided.\n",
       "\n",
       "|    | **Type** | **Default** | **Details** |\n",
       "| -- | -------- | ----------- | ----------- |\n",
       "| mean | ndarray |  | The state mean. |\n",
       "| covariance | ndarray |  | The state covariance. |\n",
       "| measurements | ndarray |  | The given measurements. |\n",
       "| only_position | bool | False | If True, consider only position in the gating distance. Defaults to False. |\n",
       "| metric | str | maha | The metric to use for distance calculation ('gaussian' or 'maha'). Defaults to 'maha'. |\n",
       "| **Returns** | **ndarray** |  | **The gating distances.** |"
      ]
     },
     "execution_count": null,
     "metadata": {},
     "output_type": "execute_result"
    }
   ],
   "source": [
    "show_doc(KalmanFilter.gating_distance)"
   ]
  },
  {
   "cell_type": "code",
   "execution_count": null,
   "metadata": {},
   "outputs": [],
   "source": []
  },
  {
   "cell_type": "code",
   "execution_count": null,
   "metadata": {},
   "outputs": [],
   "source": [
    "#| hide\n",
    "import nbdev; nbdev.nbdev_export()"
   ]
  }
 ],
 "metadata": {
  "kernelspec": {
   "display_name": "python3",
   "language": "python",
   "name": "python3"
  }
 },
 "nbformat": 4,
 "nbformat_minor": 4
}
