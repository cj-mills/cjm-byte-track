{
 "cells": [
  {
   "cell_type": "markdown",
   "metadata": {},
   "source": [
    "# strack\n",
    "\n",
    "> A Simple Track object"
   ]
  },
  {
   "cell_type": "code",
   "execution_count": null,
   "metadata": {},
   "outputs": [],
   "source": [
    "#| default_exp strack"
   ]
  },
  {
   "cell_type": "code",
   "execution_count": null,
   "metadata": {},
   "outputs": [],
   "source": [
    "#| hide\n",
    "from nbdev.showdoc import *"
   ]
  },
  {
   "cell_type": "code",
   "execution_count": null,
   "metadata": {},
   "outputs": [],
   "source": [
    "#| export\n",
    "import numpy as np\n",
    "from cjm_byte_track.kalman_filter import KalmanFilter\n",
    "from cjm_byte_track.basetrack import BaseTrack, TrackState"
   ]
  },
  {
   "cell_type": "code",
   "execution_count": null,
   "metadata": {},
   "outputs": [],
   "source": [
    "#| export\n",
    "class STrack(BaseTrack):\n",
    "    \"\"\"A Simple Track object\"\"\"\n",
    "    # Shared Kalman Filter for all instances of STrack\n",
    "    shared_kalman = KalmanFilter()\n",
    "\n",
    "    def __init__(self, \n",
    "                 tlwh, # List or array-like containing four values (top-left x, top-left y, width, height).\n",
    "                 score # The confidence score of the detection.\n",
    "                ):\n",
    "        \"\"\"\n",
    "        Initialize an STrack (Simple Track) object.\n",
    "        \"\"\"\n",
    "        # Convert tlwh to numpy array of type float\n",
    "        self._tlwh = np.asarray(tlwh, dtype=float)\n",
    "        \n",
    "        # Kalman filter instance for this track\n",
    "        self.kalman_filter = None\n",
    "        \n",
    "        # Mean and covariance of the state\n",
    "        self.mean, self.covariance = None, None\n",
    "        \n",
    "        # Flag to check if the track is activated\n",
    "        self.is_activated = False\n",
    "        \n",
    "        # Score of the detection\n",
    "        self.score = score\n",
    "        \n",
    "        # Length of the tracklet\n",
    "        self.tracklet_len = 0\n",
    "\n",
    "    def predict(self):\n",
    "        \"\"\"\n",
    "        Predict the next state using Kalman filter.\n",
    "        \"\"\"\n",
    "        mean_state = self.mean.copy()\n",
    "        \n",
    "        # If the track is not in Tracked state, set velocity to 0\n",
    "        if self.state != TrackState.Tracked:\n",
    "            mean_state[7] = 0\n",
    "        \n",
    "        # Predict the next state using the kalman filter\n",
    "        self.mean, self.covariance = self.kalman_filter.predict(mean_state, self.covariance)\n",
    "\n",
    "    @staticmethod\n",
    "    def multi_predict(stracks # List of STrack objects.\n",
    "                     ):\n",
    "        \"\"\"\n",
    "        Predict the state for multiple tracks simultaneously using the shared Kalman filter.\n",
    "        \"\"\"\n",
    "        if not stracks:\n",
    "            return\n",
    "\n",
    "        # Extract mean and covariance for each track\n",
    "        multi_states = [(st.mean.copy(), st.covariance) for st in stracks]\n",
    "        \n",
    "        # For each track, set velocity to 0 if it's not in Tracked state\n",
    "        for i, st in enumerate(stracks):\n",
    "            if st.state != TrackState.Tracked:\n",
    "                multi_states[i][0][7] = 0\n",
    "        \n",
    "        # Use shared kalman filter for prediction\n",
    "        multi_means, multi_covariances = zip(*multi_states)\n",
    "        multi_means, multi_covariances = STrack.shared_kalman.multi_predict(np.asarray(multi_means), np.asarray(multi_covariances))\n",
    "\n",
    "        # Update each track with the predicted mean and covariance\n",
    "        for i, st in enumerate(stracks):\n",
    "            st.mean, st.covariance = multi_means[i], multi_covariances[i]\n",
    "\n",
    "    def activate(self, \n",
    "                 kalman_filter, # KalmanFilter instance.\n",
    "                 frame_id # ID of the current frame.\n",
    "                ):\n",
    "        \"\"\"\n",
    "        Activate the track. \n",
    "        \"\"\"\n",
    "        self.kalman_filter = kalman_filter\n",
    "        \n",
    "        # Initialize track ID\n",
    "        self.track_id = self.next_id()\n",
    "        \n",
    "        # Initiate mean and covariance using the kalman filter\n",
    "        self.mean, self.covariance = self.kalman_filter.initiate(self.tlwh_to_xyah(self._tlwh))\n",
    "        \n",
    "        self.tracklet_len = 0\n",
    "        self.state = TrackState.Tracked\n",
    "        \n",
    "        # Check if track is activated in the first frame\n",
    "        self.is_activated = frame_id == 1\n",
    "        self.frame_id = frame_id\n",
    "        self.start_frame = frame_id\n",
    "\n",
    "    def re_activate(self, \n",
    "                    new_track, # The new STrack object with updated details.\n",
    "                    frame_id, # ID of the current frame.\n",
    "                    new_id=False # Flag to determine if a new ID should be assigned.\n",
    "                   ):\n",
    "        \"\"\"\n",
    "        Reactivate a track with new details.\n",
    "        \"\"\"\n",
    "        self._update_track(new_track, frame_id, new_id)\n",
    "\n",
    "    def update(self, new_track, frame_id):\n",
    "        \"\"\"\n",
    "        Update the track with new details.\n",
    "\n",
    "        :param new_track: The new STrack object with updated details.\n",
    "        :param frame_id: ID of the current frame.\n",
    "        \"\"\"\n",
    "        self._update_track(new_track, frame_id)\n",
    "\n",
    "    def _update_track(self, \n",
    "                      new_track, # The new STrack object with updated details.\n",
    "                      frame_id, # ID of the current frame.\n",
    "                      new_id=False # Flag to determine if a new ID should be assigned.\n",
    "                     ):\n",
    "        \"\"\"\n",
    "        Internal method to update track details.\n",
    "        \"\"\"\n",
    "        self.frame_id = frame_id\n",
    "        self.tracklet_len += 1\n",
    "        \n",
    "        # Update mean and covariance using the kalman filter\n",
    "        self.mean, self.covariance = self.kalman_filter.update(self.mean, self.covariance, self.tlwh_to_xyah(new_track.tlwh))\n",
    "        self.state = TrackState.Tracked\n",
    "        self.is_activated = True\n",
    "        \n",
    "        # Assign new track ID if required\n",
    "        if new_id:\n",
    "            self.track_id = self.next_id()\n",
    "        \n",
    "        # Update score\n",
    "        self.score = new_track.score\n",
    "\n",
    "    @staticmethod\n",
    "    def tlwh_to_xyah(tlwh # Bounding box in tlwh format.\n",
    "                    ): # Bounding box in xyah format.\n",
    "        \"\"\"\n",
    "        Convert bounding box from (top-left x, top-left y, width, height) to (center x, center y, aspect ratio, height). \n",
    "        \"\"\"\n",
    "        ret = np.asarray(tlwh).copy()\n",
    "        ret[:2] += ret[2:] / 2\n",
    "        ret[2] /= ret[3]\n",
    "        return ret\n",
    "\n",
    "    @staticmethod\n",
    "    def tlwh_to_tlbr(tlwh # Bounding box in tlwh format.\n",
    "                    ): # Bounding box in tlbr format.\n",
    "        \"\"\"\n",
    "        Convert bounding box from (top-left x, top-left y, width, height) to (top-left x, top-left y, bottom-right x, bottom-right y).\n",
    "        \"\"\"\n",
    "        ret = np.asarray(tlwh).copy()\n",
    "        ret[2:] += ret[:2]\n",
    "        return ret\n",
    "\n",
    "    @staticmethod\n",
    "    def tlbr_to_tlwh(tlbr # Bounding box in tlbr format.\n",
    "                    ): # Bounding box in tlwh format.\n",
    "        \"\"\"\n",
    "        Convert bounding box from (top-left x, top-left y, bottom-right x, bottom-right y) to (top-left x, top-left y, width, height).\n",
    "        \"\"\"\n",
    "        ret = np.asarray(tlbr).copy()\n",
    "        ret[2:] -= ret[:2]\n",
    "        return ret\n",
    "\n",
    "    @property\n",
    "    def tlwh(self\n",
    "            ): # Bounding box in tlwh format.\n",
    "        \"\"\"\n",
    "        Get bounding box in (top-left x, top-left y, width, height) format.\n",
    "        \"\"\"\n",
    "        if self.mean is None:\n",
    "            return self._tlwh.copy()\n",
    "        ret = self.mean[:4].copy()\n",
    "        ret[2] *= ret[3]\n",
    "        ret[:2] -= ret[2:] / 2\n",
    "        return ret\n",
    "\n",
    "    @property\n",
    "    def tlbr(self\n",
    "            ): # Bounding box in tlbr format.\n",
    "        \"\"\"\n",
    "        Get bounding box in (top-left x, top-left y, bottom-right x, bottom-right y) format.\n",
    "        \"\"\"\n",
    "        return self.tlwh_to_tlbr(self.tlwh)\n",
    "\n",
    "    def __repr__(self\n",
    "                ): # String representation of the track.\n",
    "        \"\"\"\n",
    "        String representation of the STrack object.\n",
    "        \"\"\"\n",
    "        return 'OT_{}_({}-{})'.format(self.track_id, self.start_frame, self.end_frame)"
   ]
  },
  {
   "cell_type": "code",
   "execution_count": null,
   "metadata": {},
   "outputs": [
    {
     "data": {
      "text/markdown": [
       "---\n",
       "\n",
       "[source](https://github.com/cj-mills/cjm-byte-track/blob/main/cjm_byte_track/strack.py#L17){target=\"_blank\" style=\"float:right; font-size:smaller\"}\n",
       "\n",
       "### STrack.__init__\n",
       "\n",
       ">      STrack.__init__ (tlwh, score)\n",
       "\n",
       "Initialize an STrack (Simple Track) object.\n",
       "\n",
       "|    | **Details** |\n",
       "| -- | ----------- |\n",
       "| tlwh | List or array-like containing four values (top-left x, top-left y, width, height). |\n",
       "| score | The confidence score of the detection. |"
      ],
      "text/plain": [
       "---\n",
       "\n",
       "[source](https://github.com/cj-mills/cjm-byte-track/blob/main/cjm_byte_track/strack.py#L17){target=\"_blank\" style=\"float:right; font-size:smaller\"}\n",
       "\n",
       "### STrack.__init__\n",
       "\n",
       ">      STrack.__init__ (tlwh, score)\n",
       "\n",
       "Initialize an STrack (Simple Track) object.\n",
       "\n",
       "|    | **Details** |\n",
       "| -- | ----------- |\n",
       "| tlwh | List or array-like containing four values (top-left x, top-left y, width, height). |\n",
       "| score | The confidence score of the detection. |"
      ]
     },
     "execution_count": null,
     "metadata": {},
     "output_type": "execute_result"
    }
   ],
   "source": [
    "show_doc(STrack.__init__)"
   ]
  },
  {
   "cell_type": "code",
   "execution_count": null,
   "metadata": {},
   "outputs": [
    {
     "data": {
      "text/markdown": [
       "---\n",
       "\n",
       "[source](https://github.com/cj-mills/cjm-byte-track/blob/main/cjm_byte_track/strack.py#L42){target=\"_blank\" style=\"float:right; font-size:smaller\"}\n",
       "\n",
       "### STrack.predict\n",
       "\n",
       ">      STrack.predict ()\n",
       "\n",
       "Predict the next state using Kalman filter."
      ],
      "text/plain": [
       "---\n",
       "\n",
       "[source](https://github.com/cj-mills/cjm-byte-track/blob/main/cjm_byte_track/strack.py#L42){target=\"_blank\" style=\"float:right; font-size:smaller\"}\n",
       "\n",
       "### STrack.predict\n",
       "\n",
       ">      STrack.predict ()\n",
       "\n",
       "Predict the next state using Kalman filter."
      ]
     },
     "execution_count": null,
     "metadata": {},
     "output_type": "execute_result"
    }
   ],
   "source": [
    "show_doc(STrack.predict)"
   ]
  },
  {
   "cell_type": "code",
   "execution_count": null,
   "metadata": {},
   "outputs": [
    {
     "data": {
      "text/markdown": [
       "---\n",
       "\n",
       "[source](https://github.com/cj-mills/cjm-byte-track/blob/main/cjm_byte_track/strack.py#L56){target=\"_blank\" style=\"float:right; font-size:smaller\"}\n",
       "\n",
       "### STrack.multi_predict\n",
       "\n",
       ">      STrack.multi_predict (stracks)\n",
       "\n",
       "Predict the state for multiple tracks simultaneously using the shared Kalman filter.\n",
       "\n",
       "|    | **Details** |\n",
       "| -- | ----------- |\n",
       "| stracks | List of STrack objects. |"
      ],
      "text/plain": [
       "---\n",
       "\n",
       "[source](https://github.com/cj-mills/cjm-byte-track/blob/main/cjm_byte_track/strack.py#L56){target=\"_blank\" style=\"float:right; font-size:smaller\"}\n",
       "\n",
       "### STrack.multi_predict\n",
       "\n",
       ">      STrack.multi_predict (stracks)\n",
       "\n",
       "Predict the state for multiple tracks simultaneously using the shared Kalman filter.\n",
       "\n",
       "|    | **Details** |\n",
       "| -- | ----------- |\n",
       "| stracks | List of STrack objects. |"
      ]
     },
     "execution_count": null,
     "metadata": {},
     "output_type": "execute_result"
    }
   ],
   "source": [
    "show_doc(STrack.multi_predict)"
   ]
  },
  {
   "cell_type": "code",
   "execution_count": null,
   "metadata": {},
   "outputs": [
    {
     "data": {
      "text/markdown": [
       "---\n",
       "\n",
       "[source](https://github.com/cj-mills/cjm-byte-track/blob/main/cjm_byte_track/strack.py#L80){target=\"_blank\" style=\"float:right; font-size:smaller\"}\n",
       "\n",
       "### STrack.activate\n",
       "\n",
       ">      STrack.activate (kalman_filter, frame_id)\n",
       "\n",
       "Activate the track.\n",
       "\n",
       "|    | **Details** |\n",
       "| -- | ----------- |\n",
       "| kalman_filter | KalmanFilter instance. |\n",
       "| frame_id | ID of the current frame. |"
      ],
      "text/plain": [
       "---\n",
       "\n",
       "[source](https://github.com/cj-mills/cjm-byte-track/blob/main/cjm_byte_track/strack.py#L80){target=\"_blank\" style=\"float:right; font-size:smaller\"}\n",
       "\n",
       "### STrack.activate\n",
       "\n",
       ">      STrack.activate (kalman_filter, frame_id)\n",
       "\n",
       "Activate the track.\n",
       "\n",
       "|    | **Details** |\n",
       "| -- | ----------- |\n",
       "| kalman_filter | KalmanFilter instance. |\n",
       "| frame_id | ID of the current frame. |"
      ]
     },
     "execution_count": null,
     "metadata": {},
     "output_type": "execute_result"
    }
   ],
   "source": [
    "show_doc(STrack.activate)"
   ]
  },
  {
   "cell_type": "code",
   "execution_count": null,
   "metadata": {},
   "outputs": [
    {
     "data": {
      "text/markdown": [
       "---\n",
       "\n",
       "[source](https://github.com/cj-mills/cjm-byte-track/blob/main/cjm_byte_track/strack.py#L103){target=\"_blank\" style=\"float:right; font-size:smaller\"}\n",
       "\n",
       "### STrack.re_activate\n",
       "\n",
       ">      STrack.re_activate (new_track, frame_id, new_id=False)\n",
       "\n",
       "Reactivate a track with new details.\n",
       "\n",
       "|    | **Type** | **Default** | **Details** |\n",
       "| -- | -------- | ----------- | ----------- |\n",
       "| new_track |  |  | The new STrack object with updated details. |\n",
       "| frame_id |  |  | ID of the current frame. |\n",
       "| new_id | bool | False | Flag to determine if a new ID should be assigned. |"
      ],
      "text/plain": [
       "---\n",
       "\n",
       "[source](https://github.com/cj-mills/cjm-byte-track/blob/main/cjm_byte_track/strack.py#L103){target=\"_blank\" style=\"float:right; font-size:smaller\"}\n",
       "\n",
       "### STrack.re_activate\n",
       "\n",
       ">      STrack.re_activate (new_track, frame_id, new_id=False)\n",
       "\n",
       "Reactivate a track with new details.\n",
       "\n",
       "|    | **Type** | **Default** | **Details** |\n",
       "| -- | -------- | ----------- | ----------- |\n",
       "| new_track |  |  | The new STrack object with updated details. |\n",
       "| frame_id |  |  | ID of the current frame. |\n",
       "| new_id | bool | False | Flag to determine if a new ID should be assigned. |"
      ]
     },
     "execution_count": null,
     "metadata": {},
     "output_type": "execute_result"
    }
   ],
   "source": [
    "show_doc(STrack.re_activate)"
   ]
  },
  {
   "cell_type": "code",
   "execution_count": null,
   "metadata": {},
   "outputs": [
    {
     "data": {
      "text/markdown": [
       "---\n",
       "\n",
       "[source](https://github.com/cj-mills/cjm-byte-track/blob/main/cjm_byte_track/strack.py#L113){target=\"_blank\" style=\"float:right; font-size:smaller\"}\n",
       "\n",
       "### STrack.update\n",
       "\n",
       ">      STrack.update (new_track, frame_id)\n",
       "\n",
       "Update the track with new details.\n",
       "\n",
       ":param new_track: The new STrack object with updated details.\n",
       ":param frame_id: ID of the current frame."
      ],
      "text/plain": [
       "---\n",
       "\n",
       "[source](https://github.com/cj-mills/cjm-byte-track/blob/main/cjm_byte_track/strack.py#L113){target=\"_blank\" style=\"float:right; font-size:smaller\"}\n",
       "\n",
       "### STrack.update\n",
       "\n",
       ">      STrack.update (new_track, frame_id)\n",
       "\n",
       "Update the track with new details.\n",
       "\n",
       ":param new_track: The new STrack object with updated details.\n",
       ":param frame_id: ID of the current frame."
      ]
     },
     "execution_count": null,
     "metadata": {},
     "output_type": "execute_result"
    }
   ],
   "source": [
    "show_doc(STrack.update)"
   ]
  },
  {
   "cell_type": "code",
   "execution_count": null,
   "metadata": {},
   "outputs": [
    {
     "data": {
      "text/markdown": [
       "---\n",
       "\n",
       "[source](https://github.com/cj-mills/cjm-byte-track/blob/main/cjm_byte_track/strack.py#L122){target=\"_blank\" style=\"float:right; font-size:smaller\"}\n",
       "\n",
       "### STrack._update_track\n",
       "\n",
       ">      STrack._update_track (new_track, frame_id, new_id=False)\n",
       "\n",
       "Internal method to update track details.\n",
       "\n",
       "|    | **Type** | **Default** | **Details** |\n",
       "| -- | -------- | ----------- | ----------- |\n",
       "| new_track |  |  | The new STrack object with updated details. |\n",
       "| frame_id |  |  | ID of the current frame. |\n",
       "| new_id | bool | False | Flag to determine if a new ID should be assigned. |"
      ],
      "text/plain": [
       "---\n",
       "\n",
       "[source](https://github.com/cj-mills/cjm-byte-track/blob/main/cjm_byte_track/strack.py#L122){target=\"_blank\" style=\"float:right; font-size:smaller\"}\n",
       "\n",
       "### STrack._update_track\n",
       "\n",
       ">      STrack._update_track (new_track, frame_id, new_id=False)\n",
       "\n",
       "Internal method to update track details.\n",
       "\n",
       "|    | **Type** | **Default** | **Details** |\n",
       "| -- | -------- | ----------- | ----------- |\n",
       "| new_track |  |  | The new STrack object with updated details. |\n",
       "| frame_id |  |  | ID of the current frame. |\n",
       "| new_id | bool | False | Flag to determine if a new ID should be assigned. |"
      ]
     },
     "execution_count": null,
     "metadata": {},
     "output_type": "execute_result"
    }
   ],
   "source": [
    "show_doc(STrack._update_track)"
   ]
  },
  {
   "cell_type": "code",
   "execution_count": null,
   "metadata": {},
   "outputs": [
    {
     "data": {
      "text/markdown": [
       "---\n",
       "\n",
       "[source](https://github.com/cj-mills/cjm-byte-track/blob/main/cjm_byte_track/strack.py#L146){target=\"_blank\" style=\"float:right; font-size:smaller\"}\n",
       "\n",
       "### STrack.tlwh_to_xyah\n",
       "\n",
       ">      STrack.tlwh_to_xyah (tlwh)\n",
       "\n",
       "Convert bounding box from (top-left x, top-left y, width, height) to (center x, center y, aspect ratio, height).\n",
       "\n",
       "|    | **Details** |\n",
       "| -- | ----------- |\n",
       "| tlwh | Bounding box in tlwh format. |"
      ],
      "text/plain": [
       "---\n",
       "\n",
       "[source](https://github.com/cj-mills/cjm-byte-track/blob/main/cjm_byte_track/strack.py#L146){target=\"_blank\" style=\"float:right; font-size:smaller\"}\n",
       "\n",
       "### STrack.tlwh_to_xyah\n",
       "\n",
       ">      STrack.tlwh_to_xyah (tlwh)\n",
       "\n",
       "Convert bounding box from (top-left x, top-left y, width, height) to (center x, center y, aspect ratio, height).\n",
       "\n",
       "|    | **Details** |\n",
       "| -- | ----------- |\n",
       "| tlwh | Bounding box in tlwh format. |"
      ]
     },
     "execution_count": null,
     "metadata": {},
     "output_type": "execute_result"
    }
   ],
   "source": [
    "show_doc(STrack.tlwh_to_xyah)"
   ]
  },
  {
   "cell_type": "code",
   "execution_count": null,
   "metadata": {},
   "outputs": [
    {
     "data": {
      "text/markdown": [
       "---\n",
       "\n",
       "[source](https://github.com/cj-mills/cjm-byte-track/blob/main/cjm_byte_track/strack.py#L157){target=\"_blank\" style=\"float:right; font-size:smaller\"}\n",
       "\n",
       "### STrack.tlwh_to_tlbr\n",
       "\n",
       ">      STrack.tlwh_to_tlbr (tlwh)\n",
       "\n",
       "Convert bounding box from (top-left x, top-left y, width, height) to (top-left x, top-left y, bottom-right x, bottom-right y).\n",
       "\n",
       "|    | **Details** |\n",
       "| -- | ----------- |\n",
       "| tlwh | Bounding box in tlwh format. |"
      ],
      "text/plain": [
       "---\n",
       "\n",
       "[source](https://github.com/cj-mills/cjm-byte-track/blob/main/cjm_byte_track/strack.py#L157){target=\"_blank\" style=\"float:right; font-size:smaller\"}\n",
       "\n",
       "### STrack.tlwh_to_tlbr\n",
       "\n",
       ">      STrack.tlwh_to_tlbr (tlwh)\n",
       "\n",
       "Convert bounding box from (top-left x, top-left y, width, height) to (top-left x, top-left y, bottom-right x, bottom-right y).\n",
       "\n",
       "|    | **Details** |\n",
       "| -- | ----------- |\n",
       "| tlwh | Bounding box in tlwh format. |"
      ]
     },
     "execution_count": null,
     "metadata": {},
     "output_type": "execute_result"
    }
   ],
   "source": [
    "show_doc(STrack.tlwh_to_tlbr)"
   ]
  },
  {
   "cell_type": "code",
   "execution_count": null,
   "metadata": {},
   "outputs": [
    {
     "data": {
      "text/markdown": [
       "---\n",
       "\n",
       "[source](https://github.com/cj-mills/cjm-byte-track/blob/main/cjm_byte_track/strack.py#L177){target=\"_blank\" style=\"float:right; font-size:smaller\"}\n",
       "\n",
       "### STrack.tlwh\n",
       "\n",
       ">      STrack.tlwh ()\n",
       "\n",
       "Get bounding box in (top-left x, top-left y, width, height) format."
      ],
      "text/plain": [
       "---\n",
       "\n",
       "[source](https://github.com/cj-mills/cjm-byte-track/blob/main/cjm_byte_track/strack.py#L177){target=\"_blank\" style=\"float:right; font-size:smaller\"}\n",
       "\n",
       "### STrack.tlwh\n",
       "\n",
       ">      STrack.tlwh ()\n",
       "\n",
       "Get bounding box in (top-left x, top-left y, width, height) format."
      ]
     },
     "execution_count": null,
     "metadata": {},
     "output_type": "execute_result"
    }
   ],
   "source": [
    "show_doc(STrack.tlwh)"
   ]
  },
  {
   "cell_type": "code",
   "execution_count": null,
   "metadata": {},
   "outputs": [
    {
     "data": {
      "text/markdown": [
       "---\n",
       "\n",
       "[source](https://github.com/cj-mills/cjm-byte-track/blob/main/cjm_byte_track/strack.py#L190){target=\"_blank\" style=\"float:right; font-size:smaller\"}\n",
       "\n",
       "### STrack.tlbr\n",
       "\n",
       ">      STrack.tlbr ()\n",
       "\n",
       "Get bounding box in (top-left x, top-left y, bottom-right x, bottom-right y) format."
      ],
      "text/plain": [
       "---\n",
       "\n",
       "[source](https://github.com/cj-mills/cjm-byte-track/blob/main/cjm_byte_track/strack.py#L190){target=\"_blank\" style=\"float:right; font-size:smaller\"}\n",
       "\n",
       "### STrack.tlbr\n",
       "\n",
       ">      STrack.tlbr ()\n",
       "\n",
       "Get bounding box in (top-left x, top-left y, bottom-right x, bottom-right y) format."
      ]
     },
     "execution_count": null,
     "metadata": {},
     "output_type": "execute_result"
    }
   ],
   "source": [
    "show_doc(STrack.tlbr)"
   ]
  },
  {
   "cell_type": "code",
   "execution_count": null,
   "metadata": {},
   "outputs": [],
   "source": []
  },
  {
   "cell_type": "code",
   "execution_count": null,
   "metadata": {},
   "outputs": [],
   "source": [
    "#| hide\n",
    "import nbdev; nbdev.nbdev_export()"
   ]
  }
 ],
 "metadata": {
  "kernelspec": {
   "display_name": "python3",
   "language": "python",
   "name": "python3"
  }
 },
 "nbformat": 4,
 "nbformat_minor": 4
}
