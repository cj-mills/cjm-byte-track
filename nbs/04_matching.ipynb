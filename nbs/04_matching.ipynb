{
 "cells": [
  {
   "cell_type": "markdown",
   "metadata": {},
   "source": [
    "# matching\n",
    "\n",
    "> Utility functions for matching tracks to detections."
   ]
  },
  {
   "cell_type": "code",
   "execution_count": null,
   "metadata": {},
   "outputs": [],
   "source": [
    "#| default_exp matching"
   ]
  },
  {
   "cell_type": "code",
   "execution_count": null,
   "metadata": {},
   "outputs": [],
   "source": [
    "#| hide\n",
    "from nbdev.showdoc import *"
   ]
  },
  {
   "cell_type": "code",
   "execution_count": null,
   "metadata": {},
   "outputs": [],
   "source": [
    "#| export\n",
    "from typing import List\n",
    "import numpy as np\n",
    "from scipy.optimize import linear_sum_assignment\n",
    "\n",
    "from cjm_byte_track.strack import STrack"
   ]
  },
  {
   "cell_type": "code",
   "execution_count": null,
   "metadata": {},
   "outputs": [],
   "source": [
    "#| export\n",
    "def box_iou_batch(boxes_true:np.ndarray, # Ground truth bounding boxes, shape (N, 4) format (x_min, y_min, x_max, y_max).\n",
    "                  boxes_detection:np.ndarray # Detected bounding boxes, shape (M, 4), format (x_min, y_min, x_max, y_max).\n",
    "                 ) -> np.ndarray: # IoU matrix of shape (N, M) where each element (i, j) represents the IoU between boxes_true[i] and boxes_detection[j].\n",
    "    \"\"\"\n",
    "    Compute the Intersection over Union (IoU) between two sets of bounding boxes.\n",
    "    \"\"\"\n",
    "    # Compute areas of the true boxes and detected boxes\n",
    "    area_true = (boxes_true[:, 2] - boxes_true[:, 0]) * (boxes_true[:, 3] - boxes_true[:, 1])\n",
    "    area_detection = (boxes_detection[:, 2] - boxes_detection[:, 0]) * (boxes_detection[:, 3] - boxes_detection[:, 1])\n",
    "\n",
    "    # Find the top left and bottom right coordinates for the intersections\n",
    "    top_left = np.maximum(boxes_true[:, None, :2], boxes_detection[:, :2])\n",
    "    bottom_right = np.minimum(boxes_true[:, None, 2:], boxes_detection[:, 2:])\n",
    "\n",
    "    # Compute intersection areas\n",
    "    area_inter = np.prod(np.maximum(bottom_right - top_left, 0), axis=2)\n",
    "\n",
    "    # Compute IoU values for each pair of boxes\n",
    "    return area_inter / (area_true[:, None] + area_detection - area_inter)"
   ]
  },
  {
   "cell_type": "code",
   "execution_count": null,
   "metadata": {},
   "outputs": [],
   "source": [
    "#| export\n",
    "def indices_to_matches(cost_matrix:np.ndarray, # The matrix of costs.\n",
    "                        indices:tuple, # Indices of potential matches.\n",
    "                        thresh:float # Threshold for valid matches.\n",
    "                       ) -> tuple: # Contains three elements: Matched indices., Unmatched indices from the first set. Unmatched indices from the second set.\n",
    "    \"\"\"\n",
    "    Extract matched and unmatched indices based on a threshold.\n",
    "    \"\"\"\n",
    "    indices_array = np.array(indices)\n",
    "    matched_mask = cost_matrix[tuple(indices_array.T)] <= thresh\n",
    "\n",
    "    matches = indices_array[matched_mask]\n",
    "    unmatched_a = tuple(np.setdiff1d(np.arange(cost_matrix.shape[0]), matches[:, 0]))\n",
    "    unmatched_b = tuple(np.setdiff1d(np.arange(cost_matrix.shape[1]), matches[:, 1]))\n",
    "\n",
    "    return matches, unmatched_a, unmatched_b"
   ]
  },
  {
   "cell_type": "code",
   "execution_count": null,
   "metadata": {},
   "outputs": [],
   "source": [
    "#| export\n",
    "def linear_assignment(cost_matrix:np.ndarray, # The matrix of costs.\n",
    "                      thresh:float # Threshold for valid matches.\n",
    "                     ) -> tuple: # Contains three elements: Matched indices, Unmatched indices from the first set., Unmatched indices from the second set.\n",
    "    \"\"\"\n",
    "    Perform linear assignment to minimize the total cost.\n",
    "    \"\"\"\n",
    "    if not cost_matrix.size:\n",
    "        return (np.empty((0, 2), dtype=int), \n",
    "                tuple(range(cost_matrix.shape[0])), \n",
    "                tuple(range(cost_matrix.shape[1])))\n",
    "    \n",
    "    # Replace values above threshold with a high value\n",
    "    cost_matrix = np.where(cost_matrix > thresh, thresh + 1e-4, cost_matrix)\n",
    "    row_ind, col_ind = linear_sum_assignment(cost_matrix)\n",
    "    \n",
    "    return indices_to_matches(cost_matrix, np.column_stack((row_ind, col_ind)), thresh)"
   ]
  },
  {
   "cell_type": "code",
   "execution_count": null,
   "metadata": {},
   "outputs": [],
   "source": [
    "#| export\n",
    "def ious(atlbrs, # List of bounding boxes from the first set. \n",
    "         btlbrs # List of bounding boxes from the second set.\n",
    "        ) -> np.ndarray: # IoU matrix.\n",
    "    \"\"\"\n",
    "    Compute the IoU between two sets of bounding boxes.\n",
    "    \"\"\"\n",
    "    if not atlbrs or not btlbrs:\n",
    "        return np.zeros((len(atlbrs), len(btlbrs)), dtype=float)\n",
    "\n",
    "    return box_iou_batch(\n",
    "        np.ascontiguousarray(atlbrs, dtype=float),\n",
    "        np.ascontiguousarray(btlbrs, dtype=float)\n",
    "    )"
   ]
  },
  {
   "cell_type": "code",
   "execution_count": null,
   "metadata": {},
   "outputs": [],
   "source": [
    "#| export\n",
    "def iou_distance(\n",
    "    atracks:list, # List of tracks from the first set. Each track can be an ndarray or an object with a 'tlbr' attribute.\n",
    "    btracks:list # List of tracks from the second set. Each track can be an ndarray or an object with a 'tlbr' attribute.\n",
    ") -> np.ndarray: # Cost matrix where each element (i, j) represents the cost of associating atracks[i] with btracks[j].\n",
    "    \"\"\"\n",
    "    Compute the cost matrix based on IoU for two sets of tracks.\n",
    "    \"\"\"\n",
    "    # Determine if tracks should be directly used or if 'tlbr' attribute should be extracted\n",
    "    should_extract_tlbr = len(atracks) > 0 and not isinstance(atracks[0], np.ndarray)\n",
    "\n",
    "    # Extract 'tlbr' attribute if required\n",
    "    atlbrs = [track.tlbr for track in atracks] if should_extract_tlbr else atracks\n",
    "    btlbrs = [track.tlbr for track in btracks] if should_extract_tlbr else btracks\n",
    "\n",
    "    # Compute IoU and derive the cost matrix\n",
    "    _ious = ious(atlbrs, btlbrs)\n",
    "    cost_matrix = 1 - _ious\n",
    "\n",
    "    return cost_matrix"
   ]
  },
  {
   "cell_type": "code",
   "execution_count": null,
   "metadata": {},
   "outputs": [],
   "source": [
    "#| export\n",
    "def match_detections_with_tracks(tlbr_boxes: np.ndarray, # An array of detected bounding boxes, represented as [top, left, bottom, right].\n",
    "                                 track_ids: np.ndarray, # An array of track IDs corresponding to the input bounding boxes.\n",
    "                                 tracks: List[STrack] # A list of track objects representing the current tracked objects.\n",
    "                                ) -> np.ndarray: # An array of updated track IDs where the detections are matched with the existing tracks.\n",
    "\n",
    "    \"\"\"\n",
    "    Match detected bounding boxes with existing tracks using Intersection Over Union (IOU).\n",
    "\n",
    "    Note:\n",
    "    - If a detected bounding box does not match any existing track (i.e., IOU is zero), its corresponding track ID remains unchanged.\n",
    "    \"\"\"\n",
    "    \n",
    "    # Calculate IOU\n",
    "    tracks_boxes = np.array([track.tlbr for track in tracks])\n",
    "    iou = box_iou_batch(tracks_boxes, tlbr_boxes)\n",
    "    \n",
    "    # Get indices with maximum IOU values\n",
    "    track2detection = np.argmax(iou, axis=1)\n",
    "    max_iou_values = np.max(iou, axis=1)\n",
    "    \n",
    "    # Update track_ids where IOU is not zero\n",
    "    valid_indices = max_iou_values != 0\n",
    "    valid_track_indices = np.arange(len(tracks))[valid_indices]\n",
    "    for idx in valid_track_indices:\n",
    "        track_ids[track2detection[idx]] = tracks[idx].track_id\n",
    "    \n",
    "    return track_ids"
   ]
  },
  {
   "cell_type": "code",
   "execution_count": null,
   "metadata": {},
   "outputs": [],
   "source": []
  },
  {
   "cell_type": "code",
   "execution_count": null,
   "metadata": {},
   "outputs": [],
   "source": [
    "#| hide\n",
    "import nbdev; nbdev.nbdev_export()"
   ]
  }
 ],
 "metadata": {
  "kernelspec": {
   "display_name": "python3",
   "language": "python",
   "name": "python3"
  }
 },
 "nbformat": 4,
 "nbformat_minor": 4
}
