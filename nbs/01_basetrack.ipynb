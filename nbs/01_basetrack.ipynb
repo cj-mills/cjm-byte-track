{
 "cells": [
  {
   "cell_type": "markdown",
   "metadata": {},
   "source": [
    "# basetrack\n",
    "\n",
    "> A base track class to extend."
   ]
  },
  {
   "cell_type": "code",
   "execution_count": null,
   "metadata": {},
   "outputs": [],
   "source": [
    "#| default_exp basetrack"
   ]
  },
  {
   "cell_type": "code",
   "execution_count": null,
   "metadata": {},
   "outputs": [],
   "source": [
    "#| hide\n",
    "from nbdev.showdoc import *"
   ]
  },
  {
   "cell_type": "code",
   "execution_count": null,
   "metadata": {},
   "outputs": [],
   "source": [
    "#| export\n",
    "from collections import OrderedDict\n",
    "from enum import Enum\n",
    "import numpy as np"
   ]
  },
  {
   "cell_type": "code",
   "execution_count": null,
   "metadata": {},
   "outputs": [],
   "source": [
    "#| export\n",
    "class TrackState(Enum):\n",
    "    \"\"\"\n",
    "    Enum class to represent the possible states of a track.\n",
    "\n",
    "    Attributes:\n",
    "    \n",
    "    - New: The initial state of the track when it's just detected.\n",
    "    - Tracked: The state when the track is being actively tracked.\n",
    "    - Lost: The state when the track is lost or not detected in the current frame.\n",
    "    - Removed: The state when the track is removed from the tracking system.\n",
    "    \"\"\"\n",
    "    New = 0\n",
    "    Tracked = 1\n",
    "    Lost = 2\n",
    "    Removed = 3"
   ]
  },
  {
   "cell_type": "code",
   "execution_count": null,
   "metadata": {},
   "outputs": [],
   "source": [
    "#| export\n",
    "class BaseTrack:\n",
    "    \"\"\"\n",
    "    Base class for a track in a tracking system.\n",
    "    \n",
    "    This class provides the basic functionalities and properties for a track, \n",
    "    such as its unique ID, state, history, features, and related functions.\n",
    "    Derived classes should implement the activate, predict, and update methods.\n",
    "\n",
    "    Attributes:\n",
    "    \n",
    "    - `_count` (int): Class-level counter to generate unique IDs for tracks.\n",
    "    \"\"\"\n",
    "    _count = 0  # class-level counter for track IDs\n",
    "\n",
    "    def __init__(self):\n",
    "        \"\"\"\n",
    "        Initializes a new track with default attributes.\n",
    "        \"\"\"\n",
    "        self.track_id = 0\n",
    "        self.is_activated = False  # Flag to check if the track is activated\n",
    "        self.state = TrackState.New  # Initial state for the track\n",
    "\n",
    "        self.history = OrderedDict()  # Ordered dictionary to store track's movement history\n",
    "        self.features = []  # List to store features of the track\n",
    "        self.curr_feature = None  # Feature of the track in the current frame\n",
    "        self.score = 0  # Confidence score of the track\n",
    "        self.start_frame = 0  # Frame number when the track was first detected\n",
    "        self.frame_id = 0  # Current frame number for the track\n",
    "        self.time_since_update = 0  # Number of frames since the track was last updated\n",
    "\n",
    "        # multi-camera setup: the location of the track in a global coordinate system\n",
    "        self.location = (np.inf, np.inf)\n",
    "\n",
    "    @property\n",
    "    def end_frame(self\n",
    "                 ) -> int: # Current frame number.\n",
    "        \"\"\"\n",
    "        Returns the current frame number as the end frame of the track.\n",
    "        \"\"\"\n",
    "        return self.frame_id\n",
    "\n",
    "    @staticmethod\n",
    "    def next_id() -> int: # The next unique track ID.\n",
    "        \"\"\"\n",
    "        Generates and returns the next unique track ID.\n",
    "        \"\"\"\n",
    "        BaseTrack._count += 1\n",
    "        return BaseTrack._count\n",
    "\n",
    "    def activate(self, *args):\n",
    "        \"\"\"\n",
    "        Activates the track. This method should be implemented by derived classes.\n",
    "\n",
    "        Raises:\n",
    "        NotImplementedError: If the method is not implemented by derived classes.\n",
    "        \"\"\"\n",
    "        raise NotImplementedError\n",
    "\n",
    "    def predict(self):\n",
    "        \"\"\"\n",
    "        Predicts the next state of the track. This method should be implemented by derived classes.\n",
    "\n",
    "        Raises:\n",
    "        NotImplementedError: If the method is not implemented by derived classes.\n",
    "        \"\"\"\n",
    "        raise NotImplementedError\n",
    "\n",
    "    def update(self, *args, **kwargs):\n",
    "        \"\"\"\n",
    "        Updates the state of the track based on new observations.\n",
    "        This method should be implemented by derived classes.\n",
    "\n",
    "        Raises:\n",
    "        NotImplementedError: If the method is not implemented by derived classes.\n",
    "        \"\"\"\n",
    "        raise NotImplementedError\n",
    "\n",
    "    def mark_lost(self):\n",
    "        \"\"\"\n",
    "        Marks the track as lost.\n",
    "        \"\"\"\n",
    "        self.state = TrackState.Lost\n",
    "\n",
    "    def mark_removed(self):\n",
    "        \"\"\"\n",
    "        Marks the track as removed.\n",
    "        \"\"\"\n",
    "        self.state = TrackState.Removed"
   ]
  },
  {
   "cell_type": "code",
   "execution_count": null,
   "metadata": {},
   "outputs": [
    {
     "data": {
      "text/markdown": [
       "---\n",
       "\n",
       "[source](https://github.com/cj-mills/cjm-byte-track/blob/main/cjm_byte_track/basetrack.py#L63){target=\"_blank\" style=\"float:right; font-size:smaller\"}\n",
       "\n",
       "### BaseTrack.end_frame\n",
       "\n",
       ">      BaseTrack.end_frame ()\n",
       "\n",
       "Returns the current frame number as the end frame of the track."
      ],
      "text/plain": [
       "---\n",
       "\n",
       "[source](https://github.com/cj-mills/cjm-byte-track/blob/main/cjm_byte_track/basetrack.py#L63){target=\"_blank\" style=\"float:right; font-size:smaller\"}\n",
       "\n",
       "### BaseTrack.end_frame\n",
       "\n",
       ">      BaseTrack.end_frame ()\n",
       "\n",
       "Returns the current frame number as the end frame of the track."
      ]
     },
     "execution_count": null,
     "metadata": {},
     "output_type": "execute_result"
    }
   ],
   "source": [
    "show_doc(BaseTrack.end_frame)"
   ]
  },
  {
   "cell_type": "code",
   "execution_count": null,
   "metadata": {},
   "outputs": [
    {
     "data": {
      "text/markdown": [
       "---\n",
       "\n",
       "[source](https://github.com/cj-mills/cjm-byte-track/blob/main/cjm_byte_track/basetrack.py#L74){target=\"_blank\" style=\"float:right; font-size:smaller\"}\n",
       "\n",
       "### BaseTrack.next_id\n",
       "\n",
       ">      BaseTrack.next_id ()\n",
       "\n",
       "Generates and returns the next unique track ID."
      ],
      "text/plain": [
       "---\n",
       "\n",
       "[source](https://github.com/cj-mills/cjm-byte-track/blob/main/cjm_byte_track/basetrack.py#L74){target=\"_blank\" style=\"float:right; font-size:smaller\"}\n",
       "\n",
       "### BaseTrack.next_id\n",
       "\n",
       ">      BaseTrack.next_id ()\n",
       "\n",
       "Generates and returns the next unique track ID."
      ]
     },
     "execution_count": null,
     "metadata": {},
     "output_type": "execute_result"
    }
   ],
   "source": [
    "show_doc(BaseTrack.next_id)"
   ]
  },
  {
   "cell_type": "code",
   "execution_count": null,
   "metadata": {},
   "outputs": [
    {
     "data": {
      "text/markdown": [
       "---\n",
       "\n",
       "[source](https://github.com/cj-mills/cjm-byte-track/blob/main/cjm_byte_track/basetrack.py#L84){target=\"_blank\" style=\"float:right; font-size:smaller\"}\n",
       "\n",
       "### BaseTrack.activate\n",
       "\n",
       ">      BaseTrack.activate (*args)\n",
       "\n",
       "Activates the track. This method should be implemented by derived classes.\n",
       "\n",
       "Raises:\n",
       "NotImplementedError: If the method is not implemented by derived classes."
      ],
      "text/plain": [
       "---\n",
       "\n",
       "[source](https://github.com/cj-mills/cjm-byte-track/blob/main/cjm_byte_track/basetrack.py#L84){target=\"_blank\" style=\"float:right; font-size:smaller\"}\n",
       "\n",
       "### BaseTrack.activate\n",
       "\n",
       ">      BaseTrack.activate (*args)\n",
       "\n",
       "Activates the track. This method should be implemented by derived classes.\n",
       "\n",
       "Raises:\n",
       "NotImplementedError: If the method is not implemented by derived classes."
      ]
     },
     "execution_count": null,
     "metadata": {},
     "output_type": "execute_result"
    }
   ],
   "source": [
    "show_doc(BaseTrack.activate)"
   ]
  },
  {
   "cell_type": "code",
   "execution_count": null,
   "metadata": {},
   "outputs": [
    {
     "data": {
      "text/markdown": [
       "---\n",
       "\n",
       "[source](https://github.com/cj-mills/cjm-byte-track/blob/main/cjm_byte_track/basetrack.py#L93){target=\"_blank\" style=\"float:right; font-size:smaller\"}\n",
       "\n",
       "### BaseTrack.predict\n",
       "\n",
       ">      BaseTrack.predict ()\n",
       "\n",
       "Predicts the next state of the track. This method should be implemented by derived classes.\n",
       "\n",
       "Raises:\n",
       "NotImplementedError: If the method is not implemented by derived classes."
      ],
      "text/plain": [
       "---\n",
       "\n",
       "[source](https://github.com/cj-mills/cjm-byte-track/blob/main/cjm_byte_track/basetrack.py#L93){target=\"_blank\" style=\"float:right; font-size:smaller\"}\n",
       "\n",
       "### BaseTrack.predict\n",
       "\n",
       ">      BaseTrack.predict ()\n",
       "\n",
       "Predicts the next state of the track. This method should be implemented by derived classes.\n",
       "\n",
       "Raises:\n",
       "NotImplementedError: If the method is not implemented by derived classes."
      ]
     },
     "execution_count": null,
     "metadata": {},
     "output_type": "execute_result"
    }
   ],
   "source": [
    "show_doc(BaseTrack.predict)"
   ]
  },
  {
   "cell_type": "code",
   "execution_count": null,
   "metadata": {},
   "outputs": [
    {
     "data": {
      "text/markdown": [
       "---\n",
       "\n",
       "[source](https://github.com/cj-mills/cjm-byte-track/blob/main/cjm_byte_track/basetrack.py#L102){target=\"_blank\" style=\"float:right; font-size:smaller\"}\n",
       "\n",
       "### BaseTrack.update\n",
       "\n",
       ">      BaseTrack.update (*args, **kwargs)\n",
       "\n",
       "Updates the state of the track based on new observations.\n",
       "This method should be implemented by derived classes.\n",
       "\n",
       "Raises:\n",
       "NotImplementedError: If the method is not implemented by derived classes."
      ],
      "text/plain": [
       "---\n",
       "\n",
       "[source](https://github.com/cj-mills/cjm-byte-track/blob/main/cjm_byte_track/basetrack.py#L102){target=\"_blank\" style=\"float:right; font-size:smaller\"}\n",
       "\n",
       "### BaseTrack.update\n",
       "\n",
       ">      BaseTrack.update (*args, **kwargs)\n",
       "\n",
       "Updates the state of the track based on new observations.\n",
       "This method should be implemented by derived classes.\n",
       "\n",
       "Raises:\n",
       "NotImplementedError: If the method is not implemented by derived classes."
      ]
     },
     "execution_count": null,
     "metadata": {},
     "output_type": "execute_result"
    }
   ],
   "source": [
    "show_doc(BaseTrack.update)"
   ]
  },
  {
   "cell_type": "code",
   "execution_count": null,
   "metadata": {},
   "outputs": [
    {
     "data": {
      "text/markdown": [
       "---\n",
       "\n",
       "[source](https://github.com/cj-mills/cjm-byte-track/blob/main/cjm_byte_track/basetrack.py#L112){target=\"_blank\" style=\"float:right; font-size:smaller\"}\n",
       "\n",
       "### BaseTrack.mark_lost\n",
       "\n",
       ">      BaseTrack.mark_lost ()\n",
       "\n",
       "Marks the track as lost."
      ],
      "text/plain": [
       "---\n",
       "\n",
       "[source](https://github.com/cj-mills/cjm-byte-track/blob/main/cjm_byte_track/basetrack.py#L112){target=\"_blank\" style=\"float:right; font-size:smaller\"}\n",
       "\n",
       "### BaseTrack.mark_lost\n",
       "\n",
       ">      BaseTrack.mark_lost ()\n",
       "\n",
       "Marks the track as lost."
      ]
     },
     "execution_count": null,
     "metadata": {},
     "output_type": "execute_result"
    }
   ],
   "source": [
    "show_doc(BaseTrack.mark_lost)"
   ]
  },
  {
   "cell_type": "code",
   "execution_count": null,
   "metadata": {},
   "outputs": [
    {
     "data": {
      "text/markdown": [
       "---\n",
       "\n",
       "[source](https://github.com/cj-mills/cjm-byte-track/blob/main/cjm_byte_track/basetrack.py#L118){target=\"_blank\" style=\"float:right; font-size:smaller\"}\n",
       "\n",
       "### BaseTrack.mark_removed\n",
       "\n",
       ">      BaseTrack.mark_removed ()\n",
       "\n",
       "Marks the track as removed."
      ],
      "text/plain": [
       "---\n",
       "\n",
       "[source](https://github.com/cj-mills/cjm-byte-track/blob/main/cjm_byte_track/basetrack.py#L118){target=\"_blank\" style=\"float:right; font-size:smaller\"}\n",
       "\n",
       "### BaseTrack.mark_removed\n",
       "\n",
       ">      BaseTrack.mark_removed ()\n",
       "\n",
       "Marks the track as removed."
      ]
     },
     "execution_count": null,
     "metadata": {},
     "output_type": "execute_result"
    }
   ],
   "source": [
    "show_doc(BaseTrack.mark_removed)"
   ]
  },
  {
   "cell_type": "code",
   "execution_count": null,
   "metadata": {},
   "outputs": [],
   "source": []
  },
  {
   "cell_type": "code",
   "execution_count": null,
   "metadata": {},
   "outputs": [],
   "source": [
    "#| hide\n",
    "import nbdev; nbdev.nbdev_export()"
   ]
  },
  {
   "cell_type": "code",
   "execution_count": null,
   "metadata": {},
   "outputs": [],
   "source": []
  }
 ],
 "metadata": {
  "kernelspec": {
   "display_name": "python3",
   "language": "python",
   "name": "python3"
  }
 },
 "nbformat": 4,
 "nbformat_minor": 4
}
