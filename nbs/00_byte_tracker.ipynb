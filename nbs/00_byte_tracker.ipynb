{
 "cells": [
  {
   "cell_type": "markdown",
   "metadata": {},
   "source": [
    "# byte_tracker\n",
    "\n",
    "> A standalone Python implementation of the [ByteTrack](https://arxiv.org/abs/2110.06864) multi-object tracker based on the [official implementation](https://github.com/ifzhang/ByteTrack/tree/main/yolox/tracker)."
   ]
  },
  {
   "cell_type": "code",
   "execution_count": null,
   "metadata": {},
   "outputs": [],
   "source": [
    "#| default_exp byte_tracker"
   ]
  },
  {
   "cell_type": "code",
   "execution_count": null,
   "metadata": {},
   "outputs": [],
   "source": [
    "#| hide\n",
    "from nbdev.showdoc import *"
   ]
  },
  {
   "cell_type": "code",
   "execution_count": null,
   "metadata": {},
   "outputs": [],
   "source": [
    "#| export\n",
    "import numpy as np\n",
    "from cjm_byte_track.strack import STrack\n",
    "from cjm_byte_track.kalman_filter import KalmanFilter\n",
    "from cjm_byte_track.matching import iou_distance, linear_assignment\n",
    "from cjm_byte_track.basetrack import BaseTrack, TrackState"
   ]
  },
  {
   "cell_type": "code",
   "execution_count": null,
   "metadata": {},
   "outputs": [],
   "source": []
  },
  {
   "cell_type": "code",
   "execution_count": null,
   "metadata": {},
   "outputs": [],
   "source": [
    "#| export\n",
    "class BYTETracker:\n",
    "    \"\"\"\n",
    "    BYTETracker is a class for tracking objects in video streams using bounding box detections, with methods for processing and updating tracks based on detection results and IoU matching.\n",
    "    \"\"\"\n",
    "    def __init__(self, \n",
    "                 track_thresh:float=0.25, # Threshold value for tracking.\n",
    "                 track_buffer:int=30, # Size of buffer for tracking.\n",
    "                 match_thresh:float=0.8, # Threshold value for matching tracks to detections.\n",
    "                 frame_rate:int=30 # Frame rate of the input video stream.\n",
    "                ):\n",
    "        \"\"\"\n",
    "        Initializes the BYTETracker.\n",
    "        \"\"\"\n",
    "\n",
    "        # Thresholds for tracking and matching\n",
    "        self.track_thresh = track_thresh\n",
    "        self.match_thresh = match_thresh\n",
    "        \n",
    "        # Frame count\n",
    "        self.frame_id = 0\n",
    "        \n",
    "        # Detection threshold, calculated based on the given track_thresh\n",
    "        self.det_thresh = track_thresh + 0.1\n",
    "        \n",
    "        # Calculate buffer size based on given frame rate and track buffer\n",
    "        self.buffer_size = int(frame_rate / 30.0 * track_buffer)\n",
    "        \n",
    "        # Maximum time a track is considered lost\n",
    "        self.max_time_lost = self.buffer_size\n",
    "        \n",
    "        # Initialize Kalman filter\n",
    "        self.kalman_filter = KalmanFilter()\n",
    "        \n",
    "        # Lists to store different kinds of tracks\n",
    "        self.tracked_stracks = []\n",
    "        self.lost_stracks = []\n",
    "        self.removed_stracks = []\n",
    "        \n",
    "        BaseTrack._count = 0\n",
    "\n",
    "    def _process_output(self, \n",
    "                        output_results # Detection results.\n",
    "                       ) -> tuple: # scores and bounding boxes.\n",
    "        \"\"\"\n",
    "        Process the output results to separate scores and bounding boxes.\n",
    "        \"\"\"\n",
    "\n",
    "        # Check if output has 5 columns (indicating it contains scores only)\n",
    "        if output_results.shape[1] == 5:\n",
    "            scores = output_results[:, 4]\n",
    "        else:\n",
    "            output_results = output_results.cpu().numpy()\n",
    "            # Calculate scores if output has more columns\n",
    "            scores = output_results[:, 4] * output_results[:, 5]\n",
    "        \n",
    "        # Extract bounding boxes\n",
    "        bboxes = output_results[:, :4]\n",
    "        return scores, bboxes\n",
    "\n",
    "    def _scale_bboxes(self, \n",
    "                      img_info:tuple, # Original height and width of the image.\n",
    "                      img_size:tuple, # Target size.\n",
    "                      bboxes:list # List of bounding boxes.\n",
    "                     ) -> list: # Scaled bounding boxes.\n",
    "        \"\"\"\n",
    "        Scale bounding boxes based on image size.\n",
    "        \"\"\"\n",
    "\n",
    "        img_h, img_w = img_info\n",
    "        scale = min(img_size[0] / float(img_h), img_size[1] / float(img_w))\n",
    "        return bboxes / scale\n",
    "\n",
    "    def _get_detections(self, \n",
    "                        dets:list, # List of detections.\n",
    "                        scores_keep:list # Scores for the detections.\n",
    "                       ) -> list: # List of STrack objects.\n",
    "        \"\"\"\n",
    "        Convert bounding boxes to STrack objects.\n",
    "        \"\"\"\n",
    "\n",
    "        return [STrack(STrack.tlbr_to_tlwh(tlbr), s) for tlbr, s in zip(dets, scores_keep)] if dets.size > 0 else []\n",
    "\n",
    "    def _update_tracked_stracks(self\n",
    "                               ) -> tuple: # List of unconfirmed and tracked tracks.\n",
    "        \"\"\"\n",
    "        Update the list of tracked and unconfirmed tracks.\n",
    "        \"\"\"\n",
    "\n",
    "        unconfirmed = [track for track in self.tracked_stracks if not track.is_activated]\n",
    "        tracked_stracks = [track for track in self.tracked_stracks if track.is_activated]\n",
    "        return unconfirmed, tracked_stracks\n",
    "\n",
    "    def _match_tracks_to_detections(self, \n",
    "                                    stracks:list, # List of tracks.\n",
    "                                    detections:list, # List of detections.\n",
    "                                    thresh:float # IOU threshold for matching.\n",
    "                                   ) -> tuple: # Matches and unmatched tracks and detections.\n",
    "        \"\"\"\n",
    "        Match tracks to detections using IOU.\n",
    "        \"\"\"\n",
    "\n",
    "        dists = iou_distance(stracks, detections)\n",
    "        return linear_assignment(dists, thresh=thresh)\n",
    "\n",
    "    def _update_tracks(self, \n",
    "                       stracks:list, # List of tracks.\n",
    "                       detections:list, # List of detections.\n",
    "                       matches:list, # Matched track-detection pairs.\n",
    "                       refind_stracks:list, # List to add refind tracks.\n",
    "                       activated_stracks:list # List to add activated tracks.\n",
    "                      ):\n",
    "        \"\"\"\n",
    "        Update tracks based on matches with detections.\n",
    "        \"\"\"\n",
    "\n",
    "        for itracked, idet in matches:\n",
    "            track = stracks[itracked]\n",
    "            det = detections[idet]\n",
    "            if track.state == TrackState.Tracked:\n",
    "                track.update(det, self.frame_id)\n",
    "                activated_stracks.append(track)\n",
    "            else:\n",
    "                track.re_activate(det, self.frame_id, new_id=False)\n",
    "                refind_stracks.append(track)\n",
    "\n",
    "    def update(self, \n",
    "               output_results, # Detection results.\n",
    "               img_info:tuple, # Original height and width of the image.\n",
    "               img_size:tuple # Target size.\n",
    "              ) -> list: # List of activated tracks.\n",
    "        \"\"\"\n",
    "        Update the tracker based on new detections.\n",
    "        \"\"\"\n",
    "\n",
    "        self.frame_id += 1\n",
    "        refind_stracks, activated_stracks, lost_stracks, removed_stracks = [], [], [], []\n",
    "\n",
    "        scores, bboxes = self._process_output(output_results)\n",
    "        bboxes = self._scale_bboxes(img_info, img_size, bboxes)\n",
    "        detections = self._get_detections(bboxes[scores > self.track_thresh], scores[scores > self.track_thresh])\n",
    "        detections_second = self._get_detections(bboxes[np.logical_and(scores > 0.1, scores < self.track_thresh)], \n",
    "                                                 scores[np.logical_and(scores > 0.1, scores < self.track_thresh)])\n",
    "\n",
    "        # Update tracked stracks\n",
    "        unconfirmed, tracked_stracks = self._update_tracked_stracks()\n",
    "        strack_pool = joint_stracks(tracked_stracks, self.lost_stracks)\n",
    "        STrack.multi_predict(strack_pool)\n",
    "\n",
    "        # Match and update tracks\n",
    "        matches, u_track, u_detection = self._match_tracks_to_detections(strack_pool, detections, self.match_thresh)\n",
    "        self._update_tracks(strack_pool, detections, matches, refind_stracks, activated_stracks)\n",
    "\n",
    "        # Additional matching and track updates\n",
    "        r_tracked_stracks = [strack_pool[i] for i in u_track if strack_pool[i].state == TrackState.Tracked]\n",
    "        matches, u_track, _ = self._match_tracks_to_detections(r_tracked_stracks, detections_second, thresh=0.5)\n",
    "        self._update_tracks(r_tracked_stracks, detections_second, matches, refind_stracks, activated_stracks)\n",
    "        for it in u_track:\n",
    "            track = r_tracked_stracks[it]\n",
    "            if not track.state == TrackState.Lost:\n",
    "                track.mark_lost()\n",
    "                lost_stracks.append(track)\n",
    "\n",
    "        # Update unconfirmed tracks\n",
    "        detections = [detections[i] for i in u_detection]\n",
    "        matches, u_unconfirmed, u_detection = self._match_tracks_to_detections(unconfirmed, detections, thresh=0.7)\n",
    "        for itracked, idet in matches:\n",
    "            unconfirmed[itracked].update(detections[idet], self.frame_id)\n",
    "            activated_stracks.append(unconfirmed[itracked])\n",
    "        for it in u_unconfirmed:\n",
    "            track = unconfirmed[it]\n",
    "            track.mark_removed()\n",
    "            removed_stracks.append(track)\n",
    "\n",
    "        # Handle new tracks\n",
    "        for inew in u_detection:\n",
    "            track = detections[inew]\n",
    "            if track.score >= self.det_thresh:\n",
    "                track.activate(self.kalman_filter, self.frame_id)\n",
    "                activated_stracks.append(track)\n",
    "\n",
    "        # Handle lost and removed tracks\n",
    "        for track in self.lost_stracks:\n",
    "            if self.frame_id - track.end_frame > self.max_time_lost:\n",
    "                track.mark_removed()\n",
    "                removed_stracks.append(track)\n",
    "\n",
    "        removed_stracks.extend([track for track in self.lost_stracks if self.frame_id - track.end_frame > self.max_time_lost])\n",
    "        self.tracked_stracks = [t for t in self.tracked_stracks if t.state == TrackState.Tracked]\n",
    "        self.tracked_stracks = joint_stracks(self.tracked_stracks, activated_stracks)\n",
    "        self.tracked_stracks = joint_stracks(self.tracked_stracks, refind_stracks)\n",
    "        self.lost_stracks = sub_stracks(self.lost_stracks, self.tracked_stracks)\n",
    "        self.lost_stracks.extend(lost_stracks)\n",
    "        self.lost_stracks = sub_stracks(self.lost_stracks, self.removed_stracks)\n",
    "        self.removed_stracks.extend(removed_stracks)\n",
    "        self.tracked_stracks, self.lost_stracks = remove_duplicate_stracks(self.tracked_stracks, self.lost_stracks)\n",
    "        return [track for track in self.tracked_stracks if track.is_activated]"
   ]
  },
  {
   "cell_type": "code",
   "execution_count": null,
   "metadata": {},
   "outputs": [
    {
     "data": {
      "text/markdown": [
       "---\n",
       "\n",
       "[source](https://github.com/cj-mills/cjm-byte-track/blob/main/cjm_byte_track/core.py#L210){target=\"_blank\" style=\"float:right; font-size:smaller\"}\n",
       "\n",
       "### BYTETracker.__init__\n",
       "\n",
       ">      BYTETracker.__init__ (track_thresh:float=0.25, track_buffer:int=30,\n",
       ">                            match_thresh:float=0.8, frame_rate:int=30)\n",
       "\n",
       "Initializes the BYTETracker.\n",
       "\n",
       "|    | **Type** | **Default** | **Details** |\n",
       "| -- | -------- | ----------- | ----------- |\n",
       "| track_thresh | float | 0.25 | Threshold value for tracking. |\n",
       "| track_buffer | int | 30 | Size of buffer for tracking. |\n",
       "| match_thresh | float | 0.8 | Threshold value for matching tracks to detections. |\n",
       "| frame_rate | int | 30 | Frame rate of the input video stream. |"
      ],
      "text/plain": [
       "---\n",
       "\n",
       "[source](https://github.com/cj-mills/cjm-byte-track/blob/main/cjm_byte_track/core.py#L210){target=\"_blank\" style=\"float:right; font-size:smaller\"}\n",
       "\n",
       "### BYTETracker.__init__\n",
       "\n",
       ">      BYTETracker.__init__ (track_thresh:float=0.25, track_buffer:int=30,\n",
       ">                            match_thresh:float=0.8, frame_rate:int=30)\n",
       "\n",
       "Initializes the BYTETracker.\n",
       "\n",
       "|    | **Type** | **Default** | **Details** |\n",
       "| -- | -------- | ----------- | ----------- |\n",
       "| track_thresh | float | 0.25 | Threshold value for tracking. |\n",
       "| track_buffer | int | 30 | Size of buffer for tracking. |\n",
       "| match_thresh | float | 0.8 | Threshold value for matching tracks to detections. |\n",
       "| frame_rate | int | 30 | Frame rate of the input video stream. |"
      ]
     },
     "execution_count": null,
     "metadata": {},
     "output_type": "execute_result"
    }
   ],
   "source": [
    "show_doc(BYTETracker.__init__)"
   ]
  },
  {
   "cell_type": "code",
   "execution_count": null,
   "metadata": {},
   "outputs": [
    {
     "data": {
      "text/markdown": [
       "---\n",
       "\n",
       "[source](https://github.com/cj-mills/cjm-byte-track/blob/main/cjm_byte_track/core.py#L246){target=\"_blank\" style=\"float:right; font-size:smaller\"}\n",
       "\n",
       "### BYTETracker._process_output\n",
       "\n",
       ">      BYTETracker._process_output (output_results)\n",
       "\n",
       "Process the output results to separate scores and bounding boxes.\n",
       "\n",
       "|    | **Type** | **Details** |\n",
       "| -- | -------- | ----------- |\n",
       "| output_results |  | Detection results. |\n",
       "| **Returns** | **tuple** | **scores and bounding boxes.** |"
      ],
      "text/plain": [
       "---\n",
       "\n",
       "[source](https://github.com/cj-mills/cjm-byte-track/blob/main/cjm_byte_track/core.py#L246){target=\"_blank\" style=\"float:right; font-size:smaller\"}\n",
       "\n",
       "### BYTETracker._process_output\n",
       "\n",
       ">      BYTETracker._process_output (output_results)\n",
       "\n",
       "Process the output results to separate scores and bounding boxes.\n",
       "\n",
       "|    | **Type** | **Details** |\n",
       "| -- | -------- | ----------- |\n",
       "| output_results |  | Detection results. |\n",
       "| **Returns** | **tuple** | **scores and bounding boxes.** |"
      ]
     },
     "execution_count": null,
     "metadata": {},
     "output_type": "execute_result"
    }
   ],
   "source": [
    "show_doc(BYTETracker._process_output)"
   ]
  },
  {
   "cell_type": "code",
   "execution_count": null,
   "metadata": {},
   "outputs": [
    {
     "data": {
      "text/markdown": [
       "---\n",
       "\n",
       "[source](https://github.com/cj-mills/cjm-byte-track/blob/main/cjm_byte_track/core.py#L265){target=\"_blank\" style=\"float:right; font-size:smaller\"}\n",
       "\n",
       "### BYTETracker._scale_bboxes\n",
       "\n",
       ">      BYTETracker._scale_bboxes (img_info:tuple, img_size:tuple, bboxes:list)\n",
       "\n",
       "Scale bounding boxes based on image size.\n",
       "\n",
       "|    | **Type** | **Details** |\n",
       "| -- | -------- | ----------- |\n",
       "| img_info | tuple | Original height and width of the image. |\n",
       "| img_size | tuple | Target size. |\n",
       "| bboxes | list | List of bounding boxes. |\n",
       "| **Returns** | **list** | **Scaled bounding boxes.** |"
      ],
      "text/plain": [
       "---\n",
       "\n",
       "[source](https://github.com/cj-mills/cjm-byte-track/blob/main/cjm_byte_track/core.py#L265){target=\"_blank\" style=\"float:right; font-size:smaller\"}\n",
       "\n",
       "### BYTETracker._scale_bboxes\n",
       "\n",
       ">      BYTETracker._scale_bboxes (img_info:tuple, img_size:tuple, bboxes:list)\n",
       "\n",
       "Scale bounding boxes based on image size.\n",
       "\n",
       "|    | **Type** | **Details** |\n",
       "| -- | -------- | ----------- |\n",
       "| img_info | tuple | Original height and width of the image. |\n",
       "| img_size | tuple | Target size. |\n",
       "| bboxes | list | List of bounding boxes. |\n",
       "| **Returns** | **list** | **Scaled bounding boxes.** |"
      ]
     },
     "execution_count": null,
     "metadata": {},
     "output_type": "execute_result"
    }
   ],
   "source": [
    "show_doc(BYTETracker._scale_bboxes)"
   ]
  },
  {
   "cell_type": "code",
   "execution_count": null,
   "metadata": {},
   "outputs": [
    {
     "data": {
      "text/markdown": [
       "---\n",
       "\n",
       "[source](https://github.com/cj-mills/cjm-byte-track/blob/main/cjm_byte_track/core.py#L278){target=\"_blank\" style=\"float:right; font-size:smaller\"}\n",
       "\n",
       "### BYTETracker._get_detections\n",
       "\n",
       ">      BYTETracker._get_detections (dets:list, scores_keep:list)\n",
       "\n",
       "Convert bounding boxes to STrack objects.\n",
       "\n",
       "|    | **Type** | **Details** |\n",
       "| -- | -------- | ----------- |\n",
       "| dets | list | List of detections. |\n",
       "| scores_keep | list | Scores for the detections. |\n",
       "| **Returns** | **list** | **List of STrack objects.** |"
      ],
      "text/plain": [
       "---\n",
       "\n",
       "[source](https://github.com/cj-mills/cjm-byte-track/blob/main/cjm_byte_track/core.py#L278){target=\"_blank\" style=\"float:right; font-size:smaller\"}\n",
       "\n",
       "### BYTETracker._get_detections\n",
       "\n",
       ">      BYTETracker._get_detections (dets:list, scores_keep:list)\n",
       "\n",
       "Convert bounding boxes to STrack objects.\n",
       "\n",
       "|    | **Type** | **Details** |\n",
       "| -- | -------- | ----------- |\n",
       "| dets | list | List of detections. |\n",
       "| scores_keep | list | Scores for the detections. |\n",
       "| **Returns** | **list** | **List of STrack objects.** |"
      ]
     },
     "execution_count": null,
     "metadata": {},
     "output_type": "execute_result"
    }
   ],
   "source": [
    "show_doc(BYTETracker._get_detections)"
   ]
  },
  {
   "cell_type": "code",
   "execution_count": null,
   "metadata": {},
   "outputs": [
    {
     "data": {
      "text/markdown": [
       "---\n",
       "\n",
       "[source](https://github.com/cj-mills/cjm-byte-track/blob/main/cjm_byte_track/core.py#L288){target=\"_blank\" style=\"float:right; font-size:smaller\"}\n",
       "\n",
       "### BYTETracker._update_tracked_stracks\n",
       "\n",
       ">      BYTETracker._update_tracked_stracks ()\n",
       "\n",
       "Update the list of tracked and unconfirmed tracks."
      ],
      "text/plain": [
       "---\n",
       "\n",
       "[source](https://github.com/cj-mills/cjm-byte-track/blob/main/cjm_byte_track/core.py#L288){target=\"_blank\" style=\"float:right; font-size:smaller\"}\n",
       "\n",
       "### BYTETracker._update_tracked_stracks\n",
       "\n",
       ">      BYTETracker._update_tracked_stracks ()\n",
       "\n",
       "Update the list of tracked and unconfirmed tracks."
      ]
     },
     "execution_count": null,
     "metadata": {},
     "output_type": "execute_result"
    }
   ],
   "source": [
    "show_doc(BYTETracker._update_tracked_stracks)"
   ]
  },
  {
   "cell_type": "code",
   "execution_count": null,
   "metadata": {},
   "outputs": [
    {
     "data": {
      "text/markdown": [
       "---\n",
       "\n",
       "[source](https://github.com/cj-mills/cjm-byte-track/blob/main/cjm_byte_track/core.py#L298){target=\"_blank\" style=\"float:right; font-size:smaller\"}\n",
       "\n",
       "### BYTETracker._match_tracks_to_detections\n",
       "\n",
       ">      BYTETracker._match_tracks_to_detections (stracks:list, detections:list,\n",
       ">                                               thresh:float)\n",
       "\n",
       "Match tracks to detections using IOU.\n",
       "\n",
       "|    | **Type** | **Details** |\n",
       "| -- | -------- | ----------- |\n",
       "| stracks | list | List of tracks. |\n",
       "| detections | list | List of detections. |\n",
       "| thresh | float | IOU threshold for matching. |\n",
       "| **Returns** | **tuple** | **Matches and unmatched tracks and detections.** |"
      ],
      "text/plain": [
       "---\n",
       "\n",
       "[source](https://github.com/cj-mills/cjm-byte-track/blob/main/cjm_byte_track/core.py#L298){target=\"_blank\" style=\"float:right; font-size:smaller\"}\n",
       "\n",
       "### BYTETracker._match_tracks_to_detections\n",
       "\n",
       ">      BYTETracker._match_tracks_to_detections (stracks:list, detections:list,\n",
       ">                                               thresh:float)\n",
       "\n",
       "Match tracks to detections using IOU.\n",
       "\n",
       "|    | **Type** | **Details** |\n",
       "| -- | -------- | ----------- |\n",
       "| stracks | list | List of tracks. |\n",
       "| detections | list | List of detections. |\n",
       "| thresh | float | IOU threshold for matching. |\n",
       "| **Returns** | **tuple** | **Matches and unmatched tracks and detections.** |"
      ]
     },
     "execution_count": null,
     "metadata": {},
     "output_type": "execute_result"
    }
   ],
   "source": [
    "show_doc(BYTETracker._match_tracks_to_detections)"
   ]
  },
  {
   "cell_type": "code",
   "execution_count": null,
   "metadata": {},
   "outputs": [
    {
     "data": {
      "text/markdown": [
       "---\n",
       "\n",
       "[source](https://github.com/cj-mills/cjm-byte-track/blob/main/cjm_byte_track/core.py#L310){target=\"_blank\" style=\"float:right; font-size:smaller\"}\n",
       "\n",
       "### BYTETracker._update_tracks\n",
       "\n",
       ">      BYTETracker._update_tracks (stracks:list, detections:list, matches:list,\n",
       ">                                  refind_stracks:list, activated_stracks:list)\n",
       "\n",
       "Update tracks based on matches with detections.\n",
       "\n",
       "|    | **Type** | **Details** |\n",
       "| -- | -------- | ----------- |\n",
       "| stracks | list | List of tracks. |\n",
       "| detections | list | List of detections. |\n",
       "| matches | list | Matched track-detection pairs. |\n",
       "| refind_stracks | list | List to add refind tracks. |\n",
       "| activated_stracks | list | List to add activated tracks. |"
      ],
      "text/plain": [
       "---\n",
       "\n",
       "[source](https://github.com/cj-mills/cjm-byte-track/blob/main/cjm_byte_track/core.py#L310){target=\"_blank\" style=\"float:right; font-size:smaller\"}\n",
       "\n",
       "### BYTETracker._update_tracks\n",
       "\n",
       ">      BYTETracker._update_tracks (stracks:list, detections:list, matches:list,\n",
       ">                                  refind_stracks:list, activated_stracks:list)\n",
       "\n",
       "Update tracks based on matches with detections.\n",
       "\n",
       "|    | **Type** | **Details** |\n",
       "| -- | -------- | ----------- |\n",
       "| stracks | list | List of tracks. |\n",
       "| detections | list | List of detections. |\n",
       "| matches | list | Matched track-detection pairs. |\n",
       "| refind_stracks | list | List to add refind tracks. |\n",
       "| activated_stracks | list | List to add activated tracks. |"
      ]
     },
     "execution_count": null,
     "metadata": {},
     "output_type": "execute_result"
    }
   ],
   "source": [
    "show_doc(BYTETracker._update_tracks)"
   ]
  },
  {
   "cell_type": "code",
   "execution_count": null,
   "metadata": {},
   "outputs": [
    {
     "data": {
      "text/markdown": [
       "---\n",
       "\n",
       "[source](https://github.com/cj-mills/cjm-byte-track/blob/main/cjm_byte_track/core.py#L331){target=\"_blank\" style=\"float:right; font-size:smaller\"}\n",
       "\n",
       "### BYTETracker.update\n",
       "\n",
       ">      BYTETracker.update (output_results, img_info:tuple, img_size:tuple)\n",
       "\n",
       "Update the tracker based on new detections.\n",
       "\n",
       "|    | **Type** | **Details** |\n",
       "| -- | -------- | ----------- |\n",
       "| output_results |  | Detection results. |\n",
       "| img_info | tuple | Original height and width of the image. |\n",
       "| img_size | tuple | Target size. |\n",
       "| **Returns** | **list** | **List of activated tracks.** |"
      ],
      "text/plain": [
       "---\n",
       "\n",
       "[source](https://github.com/cj-mills/cjm-byte-track/blob/main/cjm_byte_track/core.py#L331){target=\"_blank\" style=\"float:right; font-size:smaller\"}\n",
       "\n",
       "### BYTETracker.update\n",
       "\n",
       ">      BYTETracker.update (output_results, img_info:tuple, img_size:tuple)\n",
       "\n",
       "Update the tracker based on new detections.\n",
       "\n",
       "|    | **Type** | **Details** |\n",
       "| -- | -------- | ----------- |\n",
       "| output_results |  | Detection results. |\n",
       "| img_info | tuple | Original height and width of the image. |\n",
       "| img_size | tuple | Target size. |\n",
       "| **Returns** | **list** | **List of activated tracks.** |"
      ]
     },
     "execution_count": null,
     "metadata": {},
     "output_type": "execute_result"
    }
   ],
   "source": [
    "show_doc(BYTETracker.update)"
   ]
  },
  {
   "cell_type": "code",
   "execution_count": null,
   "metadata": {},
   "outputs": [],
   "source": []
  },
  {
   "cell_type": "code",
   "execution_count": null,
   "metadata": {},
   "outputs": [],
   "source": [
    "#| export\n",
    "def joint_stracks(track_list_a:list, # The first list of tracks.\n",
    "                  track_list_b:list # The second list of tracks.\n",
    "                 ) -> list: # A combined list of unique tracks.\n",
    "    \"\"\"\n",
    "    Combines two lists of tracks ensuring each track is unique based on its track_id.\n",
    "    \"\"\"\n",
    "    # Using a dictionary comprehension to ensure unique tracks based on track_id\n",
    "    unique_tracks = {track.track_id: track for track in track_list_a + track_list_b}\n",
    "    \n",
    "    return list(unique_tracks.values())"
   ]
  },
  {
   "cell_type": "code",
   "execution_count": null,
   "metadata": {},
   "outputs": [],
   "source": [
    "#| export\n",
    "def sub_stracks(track_list_a:list, # The list of tracks to subtract from.\n",
    "                track_list_b:list # The list of tracks to subtract.\n",
    "               ) -> list: # A list containing tracks from track_list_a that are not in track_list_b.\n",
    "    \"\"\"\n",
    "    Subtracts the tracks in track_list_b from track_list_a based on track_id.\n",
    "    \"\"\"\n",
    "    # Creating a set of track_ids from track_list_b for efficient look-up\n",
    "    track_ids_b = {track.track_id for track in track_list_b}\n",
    "    \n",
    "    # Return tracks from track_list_a that are not in track_list_b based on track_id\n",
    "    return [track for track in track_list_a if track.track_id not in track_ids_b]"
   ]
  },
  {
   "cell_type": "code",
   "execution_count": null,
   "metadata": {},
   "outputs": [],
   "source": [
    "#| export\n",
    "def remove_duplicate_stracks(s_tracks_a:list, # The first list of tracks.\n",
    "                             s_tracks_b:list # The second list of tracks.\n",
    "                            ) -> tuple: # Two lists of tracks with duplicates removed.\n",
    "    \"\"\"\n",
    "    Removes duplicate tracks from two lists based on a defined distance metric and time criteria. \n",
    "    \"\"\"\n",
    "    # Calculate pairwise distance between tracks in the two lists\n",
    "    pairwise_distance = iou_distance(s_tracks_a, s_tracks_b)\n",
    "    \n",
    "    # Identify pairs of tracks with distance less than 0.15 (indicating potential duplicates)\n",
    "    pairs = np.where(pairwise_distance < 0.15)\n",
    "\n",
    "    # Sets to store indexes of duplicate tracks in each list\n",
    "    duplicates_a, duplicates_b = set(), set()\n",
    "    \n",
    "    for track_a_index, track_b_index in zip(*pairs):\n",
    "        # Calculate how long each track has been in the list\n",
    "        time_a = s_tracks_a[track_a_index].frame_id - s_tracks_a[track_a_index].start_frame\n",
    "        time_b = s_tracks_b[track_b_index].frame_id - s_tracks_b[track_b_index].start_frame\n",
    "        \n",
    "        # Compare times and add the newer track to the duplicate set\n",
    "        if time_a > time_b:\n",
    "            duplicates_b.add(track_b_index)\n",
    "        else:\n",
    "            duplicates_a.add(track_a_index)\n",
    "\n",
    "    # Filter out duplicates from the original lists\n",
    "    result_a = [track for i, track in enumerate(s_tracks_a) if i not in duplicates_a]\n",
    "    result_b = [track for i, track in enumerate(s_tracks_b) if i not in duplicates_b]\n",
    "    \n",
    "    return result_a, result_b\n"
   ]
  },
  {
   "cell_type": "code",
   "execution_count": null,
   "metadata": {},
   "outputs": [],
   "source": []
  },
  {
   "cell_type": "code",
   "execution_count": null,
   "metadata": {},
   "outputs": [],
   "source": [
    "#| hide\n",
    "import nbdev; nbdev.nbdev_export()"
   ]
  }
 ],
 "metadata": {
  "kernelspec": {
   "display_name": "python3",
   "language": "python",
   "name": "python3"
  }
 },
 "nbformat": 4,
 "nbformat_minor": 4
}
